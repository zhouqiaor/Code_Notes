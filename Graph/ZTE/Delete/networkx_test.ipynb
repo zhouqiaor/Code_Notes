{
 "cells": [
  {
   "cell_type": "code",
   "execution_count": 1,
   "metadata": {},
   "outputs": [],
   "source": [
    "import numpy as np\n",
    "import matplotlib.pyplot as plt\n",
    "from collections import Counter\n",
    "import networkx as nx\n",
    "# from timeit import default_timer as timer"
   ]
  },
  {
   "cell_type": "code",
   "execution_count": 2,
   "metadata": {},
   "outputs": [],
   "source": [
    "# read\n",
    "matrix_load = np.loadtxt('Example_0409.csv', dtype=np.int, delimiter=\",\")"
   ]
  },
  {
   "cell_type": "code",
   "execution_count": 3,
   "metadata": {},
   "outputs": [
    {
     "data": {
      "image/png": "[encoded data removed]",
      "text/plain": [
       "<Figure size 720x288 with 1 Axes>"
      ]
     },
     "metadata": {
      "needs_background": "light"
     },
     "output_type": "display_data"
    }
   ],
   "source": [
    "# Display matrix\n",
    "plt.matshow(matrix_load)\n",
    "plt.show()"
   ]
  },
  {
   "cell_type": "code",
   "execution_count": 4,
   "metadata": {},
   "outputs": [],
   "source": [
    "# pre\n",
    "col, row = matrix_load.shape\n",
    "A = np.zeros((col+row, col+row))\n",
    "A[:col, col:] = matrix_load[:,:]\n",
    "A[col:, :col] = matrix_load.T[:,:]"
   ]
  },
  {
   "cell_type": "code",
   "execution_count": 5,
   "metadata": {},
   "outputs": [
    {
     "data": {
      "image/png": "[encoded data removed]",
      "text/plain": [
       "<Figure size 288x288 with 1 Axes>"
      ]
     },
     "metadata": {
      "needs_background": "light"
     },
     "output_type": "display_data"
    }
   ],
   "source": [
    "# Display matrix\n",
    "plt.matshow(A)\n",
    "plt.show()"
   ]
  },
  {
   "cell_type": "markdown",
   "metadata": {},
   "source": [
    "# Display matrix\n",
    "plt.matshow(A[:col, col:])\n",
    "plt.show()"
   ]
  },
  {
   "cell_type": "markdown",
   "metadata": {},
   "source": [
    "A[:col, col:] == matrix_load"
   ]
  },
  {
   "cell_type": "code",
   "execution_count": 6,
   "metadata": {},
   "outputs": [],
   "source": [
    "G = nx.from_numpy_matrix(A, create_using=nx.Graph)"
   ]
  },
  {
   "cell_type": "markdown",
   "metadata": {},
   "source": [
    "nx.bipartite.from_biadjacency_matrix(A)"
   ]
  },
  {
   "cell_type": "markdown",
   "metadata": {},
   "source": [
    "## graph test"
   ]
  },
  {
   "cell_type": "code",
   "execution_count": 7,
   "metadata": {},
   "outputs": [
    {
     "name": "stdout",
     "output_type": "stream",
     "text": [
      "True\n"
     ]
    }
   ],
   "source": [
    "print(nx.bipartite.is_bipartite(G))"
   ]
  },
  {
   "cell_type": "markdown",
   "metadata": {},
   "source": [
    "left, right = nx.bipartite.sets(G)"
   ]
  },
  {
   "cell_type": "markdown",
   "metadata": {},
   "source": [
    "pos = nx.spring_layout(G)\n",
    "nx.draw(G, pos)\n",
    "plt.show()"
   ]
  },
  {
   "cell_type": "markdown",
   "metadata": {},
   "source": [
    "dict_G = nx.to_dict_of_dicts(G)"
   ]
  },
  {
   "cell_type": "markdown",
   "metadata": {},
   "source": [
    "dict_G"
   ]
  },
  {
   "cell_type": "code",
   "execution_count": 8,
   "metadata": {},
   "outputs": [],
   "source": [
    "list_G = nx.to_dict_of_lists(G)"
   ]
  },
  {
   "cell_type": "markdown",
   "metadata": {},
   "source": [
    "list_G"
   ]
  },
  {
   "cell_type": "code",
   "execution_count": 10,
   "metadata": {},
   "outputs": [
    {
     "data": {
      "text/plain": [
       "dict"
      ]
     },
     "execution_count": 10,
     "metadata": {},
     "output_type": "execute_result"
    }
   ],
   "source": [
    "type(list_G)"
   ]
  },
  {
   "cell_type": "markdown",
   "metadata": {},
   "source": [
    "nx.to_edgelist(G)"
   ]
  },
  {
   "cell_type": "code",
   "execution_count": 24,
   "metadata": {},
   "outputs": [],
   "source": [
    "import graph_tool.all as gt"
   ]
  },
  {
   "cell_type": "code",
   "execution_count": 25,
   "metadata": {},
   "outputs": [],
   "source": [
    "g = gt.Graph()"
   ]
  },
  {
   "cell_type": "code",
   "execution_count": 26,
   "metadata": {},
   "outputs": [],
   "source": [
    "for v in list_G:\n",
    "    for u in list_G[v]:\n",
    "        g.add_edge(v, u)"
   ]
  },
  {
   "cell_type": "code",
   "execution_count": 27,
   "metadata": {},
   "outputs": [],
   "source": [
    "all_circuits = gt.all_circuits(g)"
   ]
  },
  {
   "cell_type": "code",
   "execution_count": null,
   "metadata": {
    "collapsed": true,
    "jupyter": {
     "outputs_hidden": true
    }
   },
   "outputs": [],
   "source": [
    "for c in gt.all_circuits(g):\n",
    "    print(c)"
   ]
  },
  {
   "cell_type": "markdown",
   "metadata": {},
   "source": [
    "matrix_load.shape"
   ]
  },
  {
   "cell_type": "markdown",
   "metadata": {},
   "source": [
    "for j in range(col):\n",
    "    for i in list_G[j]:\n",
    "        if matrix_load[j, i-col] != 1:\n",
    "            print(j, i, matrix_load[i, i-256])"
   ]
  },
  {
   "cell_type": "markdown",
   "metadata": {},
   "source": [
    "for j in range(col):\n",
    "    for i in list_G[j]:\n",
    "        if A[j, i] != 1:\n",
    "            print(j, i, matrix_load[i, i-256])"
   ]
  },
  {
   "cell_type": "markdown",
   "metadata": {},
   "source": [
    "## compute test"
   ]
  },
  {
   "cell_type": "markdown",
   "metadata": {},
   "source": [
    "all_cycles = nx.cycle_basis(G)"
   ]
  },
  {
   "cell_type": "code",
   "execution_count": 17,
   "metadata": {},
   "outputs": [],
   "source": [
    "cycles = nx.find_cycle(G, orientation='ignore')"
   ]
  },
  {
   "cell_type": "code",
   "execution_count": 18,
   "metadata": {
    "collapsed": true,
    "jupyter": {
     "outputs_hidden": true
    }
   },
   "outputs": [
    {
     "data": {
      "text/plain": [
       "[(0, 278, 'forward'),\n",
       " (278, 117, 'forward'),\n",
       " (117, 400, 'forward'),\n",
       " (400, 27, 'forward'),\n",
       " (27, 305, 'forward'),\n",
       " (305, 80, 'forward'),\n",
       " (80, 427, 'forward'),\n",
       " (427, 54, 'forward'),\n",
       " (54, 268, 'forward'),\n",
       " (268, 107, 'forward'),\n",
       " (107, 390, 'forward'),\n",
       " (390, 17, 'forward'),\n",
       " (17, 295, 'forward'),\n",
       " (295, 70, 'forward'),\n",
       " (70, 417, 'forward'),\n",
       " (417, 44, 'forward'),\n",
       " (44, 258, 'forward'),\n",
       " (258, 97, 'forward'),\n",
       " (97, 444, 'forward'),\n",
       " (444, 7, 'forward'),\n",
       " (7, 285, 'forward'),\n",
       " (285, 124, 'forward'),\n",
       " (124, 407, 'forward'),\n",
       " (407, 34, 'forward'),\n",
       " (34, 312, 'forward'),\n",
       " (312, 87, 'forward'),\n",
       " (87, 434, 'forward'),\n",
       " (434, 61, 'forward'),\n",
       " (61, 275, 'forward'),\n",
       " (275, 114, 'forward'),\n",
       " (114, 397, 'forward'),\n",
       " (397, 24, 'forward'),\n",
       " (24, 302, 'forward'),\n",
       " (302, 77, 'forward'),\n",
       " (77, 424, 'forward'),\n",
       " (424, 51, 'forward'),\n",
       " (51, 265, 'forward'),\n",
       " (265, 104, 'forward'),\n",
       " (104, 387, 'forward'),\n",
       " (387, 14, 'forward'),\n",
       " (14, 292, 'forward'),\n",
       " (292, 67, 'forward'),\n",
       " (67, 414, 'forward'),\n",
       " (414, 41, 'forward'),\n",
       " (41, 319, 'forward'),\n",
       " (319, 94, 'forward'),\n",
       " (94, 441, 'forward'),\n",
       " (441, 4, 'forward'),\n",
       " (4, 282, 'forward'),\n",
       " (282, 121, 'forward'),\n",
       " (121, 404, 'forward'),\n",
       " (404, 31, 'forward'),\n",
       " (31, 309, 'forward'),\n",
       " (309, 84, 'forward'),\n",
       " (84, 431, 'forward'),\n",
       " (431, 58, 'forward'),\n",
       " (58, 272, 'forward'),\n",
       " (272, 111, 'forward'),\n",
       " (111, 394, 'forward'),\n",
       " (394, 21, 'forward'),\n",
       " (21, 299, 'forward'),\n",
       " (299, 74, 'forward'),\n",
       " (74, 421, 'forward'),\n",
       " (421, 48, 'forward'),\n",
       " (48, 262, 'forward'),\n",
       " (262, 101, 'forward'),\n",
       " (101, 384, 'forward'),\n",
       " (384, 11, 'forward'),\n",
       " (11, 289, 'forward'),\n",
       " (289, 64, 'forward'),\n",
       " (64, 411, 'forward'),\n",
       " (411, 38, 'forward'),\n",
       " (38, 316, 'forward'),\n",
       " (316, 91, 'forward'),\n",
       " (91, 438, 'forward'),\n",
       " (438, 1, 'forward'),\n",
       " (1, 279, 'forward'),\n",
       " (279, 118, 'forward'),\n",
       " (118, 401, 'forward'),\n",
       " (401, 28, 'forward'),\n",
       " (28, 306, 'forward'),\n",
       " (306, 81, 'forward'),\n",
       " (81, 428, 'forward'),\n",
       " (428, 55, 'forward'),\n",
       " (55, 269, 'forward'),\n",
       " (269, 108, 'forward'),\n",
       " (108, 391, 'forward'),\n",
       " (391, 18, 'forward'),\n",
       " (18, 296, 'forward'),\n",
       " (296, 71, 'forward'),\n",
       " (71, 418, 'forward'),\n",
       " (418, 45, 'forward'),\n",
       " (45, 259, 'forward'),\n",
       " (259, 98, 'forward'),\n",
       " (98, 445, 'forward'),\n",
       " (445, 8, 'forward'),\n",
       " (8, 286, 'forward'),\n",
       " (286, 125, 'forward'),\n",
       " (125, 408, 'forward'),\n",
       " (408, 35, 'forward'),\n",
       " (35, 313, 'forward'),\n",
       " (313, 88, 'forward'),\n",
       " (88, 435, 'forward'),\n",
       " (435, 62, 'forward'),\n",
       " (62, 276, 'forward'),\n",
       " (276, 115, 'forward'),\n",
       " (115, 398, 'forward'),\n",
       " (398, 25, 'forward'),\n",
       " (25, 303, 'forward'),\n",
       " (303, 78, 'forward'),\n",
       " (78, 425, 'forward'),\n",
       " (425, 52, 'forward'),\n",
       " (52, 266, 'forward'),\n",
       " (266, 105, 'forward'),\n",
       " (105, 388, 'forward'),\n",
       " (388, 15, 'forward'),\n",
       " (15, 293, 'forward'),\n",
       " (293, 68, 'forward'),\n",
       " (68, 415, 'forward'),\n",
       " (415, 42, 'forward'),\n",
       " (42, 256, 'forward'),\n",
       " (256, 95, 'forward'),\n",
       " (95, 442, 'forward'),\n",
       " (442, 5, 'forward'),\n",
       " (5, 283, 'forward'),\n",
       " (283, 122, 'forward'),\n",
       " (122, 405, 'forward'),\n",
       " (405, 32, 'forward'),\n",
       " (32, 310, 'forward'),\n",
       " (310, 85, 'forward'),\n",
       " (85, 432, 'forward'),\n",
       " (432, 59, 'forward'),\n",
       " (59, 273, 'forward'),\n",
       " (273, 112, 'forward'),\n",
       " (112, 395, 'forward'),\n",
       " (395, 22, 'forward'),\n",
       " (22, 300, 'forward'),\n",
       " (300, 75, 'forward'),\n",
       " (75, 422, 'forward'),\n",
       " (422, 49, 'forward'),\n",
       " (49, 263, 'forward'),\n",
       " (263, 102, 'forward'),\n",
       " (102, 385, 'forward'),\n",
       " (385, 12, 'forward'),\n",
       " (12, 290, 'forward'),\n",
       " (290, 65, 'forward'),\n",
       " (65, 412, 'forward'),\n",
       " (412, 39, 'forward'),\n",
       " (39, 317, 'forward'),\n",
       " (317, 92, 'forward'),\n",
       " (92, 439, 'forward'),\n",
       " (439, 2, 'forward'),\n",
       " (2, 280, 'forward'),\n",
       " (280, 119, 'forward'),\n",
       " (119, 402, 'forward'),\n",
       " (402, 29, 'forward'),\n",
       " (29, 307, 'forward'),\n",
       " (307, 82, 'forward'),\n",
       " (82, 429, 'forward'),\n",
       " (429, 56, 'forward'),\n",
       " (56, 270, 'forward'),\n",
       " (270, 109, 'forward'),\n",
       " (109, 392, 'forward'),\n",
       " (392, 19, 'forward'),\n",
       " (19, 297, 'forward'),\n",
       " (297, 72, 'forward'),\n",
       " (72, 419, 'forward'),\n",
       " (419, 46, 'forward'),\n",
       " (46, 260, 'forward'),\n",
       " (260, 99, 'forward'),\n",
       " (99, 446, 'forward'),\n",
       " (446, 9, 'forward'),\n",
       " (9, 287, 'forward'),\n",
       " (287, 126, 'forward'),\n",
       " (126, 409, 'forward'),\n",
       " (409, 36, 'forward'),\n",
       " (36, 314, 'forward'),\n",
       " (314, 89, 'forward'),\n",
       " (89, 436, 'forward'),\n",
       " (436, 63, 'forward'),\n",
       " (63, 277, 'forward'),\n",
       " (277, 116, 'forward'),\n",
       " (116, 399, 'forward'),\n",
       " (399, 26, 'forward'),\n",
       " (26, 304, 'forward'),\n",
       " (304, 79, 'forward'),\n",
       " (79, 426, 'forward'),\n",
       " (426, 53, 'forward'),\n",
       " (53, 267, 'forward'),\n",
       " (267, 106, 'forward'),\n",
       " (106, 389, 'forward'),\n",
       " (389, 16, 'forward'),\n",
       " (16, 294, 'forward'),\n",
       " (294, 69, 'forward'),\n",
       " (69, 416, 'forward'),\n",
       " (416, 43, 'forward'),\n",
       " (43, 257, 'forward'),\n",
       " (257, 96, 'forward'),\n",
       " (96, 443, 'forward'),\n",
       " (443, 6, 'forward'),\n",
       " (6, 284, 'forward'),\n",
       " (284, 123, 'forward'),\n",
       " (123, 406, 'forward'),\n",
       " (406, 33, 'forward'),\n",
       " (33, 311, 'forward'),\n",
       " (311, 86, 'forward'),\n",
       " (86, 433, 'forward'),\n",
       " (433, 60, 'forward'),\n",
       " (60, 274, 'forward'),\n",
       " (274, 113, 'forward'),\n",
       " (113, 396, 'forward'),\n",
       " (396, 23, 'forward'),\n",
       " (23, 301, 'forward'),\n",
       " (301, 76, 'forward'),\n",
       " (76, 423, 'forward'),\n",
       " (423, 50, 'forward'),\n",
       " (50, 264, 'forward'),\n",
       " (264, 103, 'forward'),\n",
       " (103, 386, 'forward'),\n",
       " (386, 13, 'forward'),\n",
       " (13, 291, 'forward'),\n",
       " (291, 66, 'forward'),\n",
       " (66, 413, 'forward'),\n",
       " (413, 40, 'forward'),\n",
       " (40, 318, 'forward'),\n",
       " (318, 93, 'forward'),\n",
       " (93, 440, 'forward'),\n",
       " (440, 3, 'forward'),\n",
       " (3, 281, 'forward'),\n",
       " (281, 120, 'forward'),\n",
       " (120, 403, 'forward'),\n",
       " (403, 30, 'forward'),\n",
       " (30, 308, 'forward'),\n",
       " (308, 83, 'forward'),\n",
       " (83, 430, 'forward'),\n",
       " (430, 57, 'forward'),\n",
       " (57, 271, 'forward'),\n",
       " (271, 110, 'forward'),\n",
       " (110, 393, 'forward'),\n",
       " (393, 20, 'forward'),\n",
       " (20, 298, 'forward'),\n",
       " (298, 73, 'forward'),\n",
       " (73, 420, 'forward'),\n",
       " (420, 47, 'forward'),\n",
       " (47, 261, 'forward'),\n",
       " (261, 100, 'forward'),\n",
       " (100, 447, 'forward'),\n",
       " (447, 10, 'forward'),\n",
       " (10, 288, 'forward'),\n",
       " (288, 127, 'forward'),\n",
       " (127, 410, 'forward'),\n",
       " (410, 37, 'forward'),\n",
       " (37, 315, 'forward'),\n",
       " (315, 90, 'forward'),\n",
       " (90, 437, 'forward'),\n",
       " (437, 0, 'forward')]"
      ]
     },
     "execution_count": 18,
     "metadata": {},
     "output_type": "execute_result"
    }
   ],
   "source": [
    "cycles"
   ]
  },
  {
   "cell_type": "markdown",
   "metadata": {},
   "source": [
    "H = G.to_directed()"
   ]
  },
  {
   "cell_type": "markdown",
   "metadata": {},
   "source": [
    "test = nx.simple_cycles(H)"
   ]
  },
  {
   "cell_type": "markdown",
   "metadata": {},
   "source": [
    "test_4_14 = [np.sort(np.array(cycle)) for cycle in test if len(cycle) in range(4, 15)]"
   ]
  },
  {
   "cell_type": "markdown",
   "metadata": {},
   "source": [
    "test_4_14"
   ]
  },
  {
   "cell_type": "markdown",
   "metadata": {},
   "source": [
    "cycles_m = nx.minimum_cycle_basis(G)"
   ]
  },
  {
   "cell_type": "markdown",
   "metadata": {},
   "source": [
    "nx.algorithms.tournament.hamiltonian_path(G)"
   ]
  },
  {
   "cell_type": "markdown",
   "metadata": {},
   "source": [
    "nx.eulerian_circuit(G)"
   ]
  },
  {
   "cell_type": "markdown",
   "metadata": {},
   "source": [
    "all_cycles.sort(key=lambda x : len(x))"
   ]
  },
  {
   "cell_type": "markdown",
   "metadata": {},
   "source": [
    "len_all = [len(cycle) for cycle in all_cycles]"
   ]
  },
  {
   "cell_type": "code",
   "execution_count": 45,
   "metadata": {},
   "outputs": [],
   "source": [
    "cycles_4_14 = [np.sort(np.array(cycle)) for cycle in cycles if len(cycle) in range(4, 15)]"
   ]
  },
  {
   "cell_type": "markdown",
   "metadata": {},
   "source": [
    "cycles_yes"
   ]
  },
  {
   "cell_type": "code",
   "execution_count": 46,
   "metadata": {},
   "outputs": [],
   "source": [
    "cycles_yes.sort(key=lambda x:x[0])\n",
    "cycles_yes.sort(key=lambda x:len(x))"
   ]
  },
  {
   "cell_type": "code",
   "execution_count": 47,
   "metadata": {},
   "outputs": [
    {
     "data": {
      "text/plain": [
       "[array([  4, 134, 138, 142, 193, 197, 627, 789, 793, 868, 872, 876]),\n",
       " array([  5,   9, 135, 180, 194, 235, 771, 790, 831, 850, 869, 873]),\n",
       " array([  5, 135, 139, 143, 194, 198, 628, 790, 794, 869, 873, 877]),\n",
       " array([  8, 138, 142, 146, 197, 201, 631, 793, 797, 872, 876, 880]),\n",
       " array([ 12, 142, 146, 150, 201, 205, 635, 797, 801, 876, 880, 884]),\n",
       " array([ 16, 146, 150, 154, 205, 209, 639, 801, 805, 880, 884, 888]),\n",
       " array([ 20, 150, 154, 158, 209, 213, 579, 805, 809, 884, 888, 892]),\n",
       " array([ 24, 154, 158, 162, 213, 217, 583, 809, 813, 832, 888, 892]),\n",
       " array([ 28, 158, 162, 166, 217, 221, 587, 813, 817, 832, 836, 892]),\n",
       " array([ 32, 162, 166, 170, 221, 225, 591, 817, 821, 832, 836, 840]),\n",
       " array([ 36, 166, 170, 174, 225, 229, 595, 821, 825, 836, 840, 844]),\n",
       " array([ 40, 170, 174, 178, 229, 233, 599, 825, 829, 840, 844, 848]),\n",
       " array([ 44, 174, 178, 182, 233, 237, 603, 769, 829, 844, 848, 852]),\n",
       " array([ 48, 178, 182, 186, 237, 241, 607, 769, 773, 848, 852, 856]),\n",
       " array([ 52, 182, 186, 190, 241, 245, 611, 773, 777, 852, 856, 860])]"
      ]
     },
     "execution_count": 47,
     "metadata": {},
     "output_type": "execute_result"
    }
   ],
   "source": [
    "cycles_yes"
   ]
  },
  {
   "cell_type": "code",
   "execution_count": 74,
   "metadata": {},
   "outputs": [
    {
     "data": {
      "text/plain": [
       "12"
      ]
     },
     "execution_count": 74,
     "metadata": {},
     "output_type": "execute_result"
    }
   ],
   "source": [
    "len(cycles_yes[0])"
   ]
  },
  {
   "cell_type": "code",
   "execution_count": 75,
   "metadata": {
    "collapsed": true,
    "jupyter": {
     "outputs_hidden": true
    }
   },
   "outputs": [
    {
     "name": "stdout",
     "output_type": "stream",
     "text": [
      "0 0 0\n",
      "0 1 0\n",
      "0 2 0\n",
      "0 3 0\n",
      "0 4 0\n",
      "0 5 0\n",
      "0 6 0\n",
      "0 7 0\n",
      "0 8 0\n",
      "0 9 0\n",
      "0 10 0\n",
      "0 11 0\n",
      "1 0 0\n",
      "1 1 0\n",
      "1 2 0\n",
      "1 3 0\n",
      "1 4 0\n",
      "1 5 0\n",
      "1 6 0\n",
      "1 7 0\n",
      "1 8 0\n",
      "1 9 0\n",
      "1 10 0\n",
      "1 11 0\n",
      "2 0 0\n",
      "2 1 0\n",
      "2 2 0\n",
      "2 3 0\n",
      "2 4 0\n",
      "2 5 0\n",
      "2 6 0\n",
      "2 7 0\n",
      "2 8 0\n",
      "2 9 0\n",
      "2 10 0\n",
      "2 11 0\n",
      "3 0 0\n",
      "3 1 0\n",
      "3 2 0\n",
      "3 3 0\n",
      "3 4 0\n",
      "3 5 0\n",
      "3 6 0\n",
      "3 7 0\n",
      "3 8 0\n",
      "3 9 0\n",
      "3 10 0\n",
      "3 11 0\n",
      "4 0 0\n",
      "4 1 0\n",
      "4 2 0\n",
      "4 3 0\n",
      "4 4 0\n",
      "4 5 0\n",
      "4 6 0\n",
      "4 7 0\n",
      "4 8 0\n",
      "4 9 0\n",
      "4 10 0\n",
      "4 11 0\n",
      "5 0 0\n",
      "5 1 0\n",
      "5 2 0\n",
      "5 3 0\n",
      "5 4 0\n",
      "5 5 0\n",
      "5 6 0\n",
      "5 7 0\n",
      "5 8 0\n",
      "5 9 0\n",
      "5 10 0\n",
      "5 11 0\n",
      "6 0 0\n",
      "6 1 0\n",
      "6 2 0\n",
      "6 3 0\n",
      "6 4 0\n",
      "6 5 0\n",
      "6 6 0\n",
      "6 7 0\n",
      "6 8 0\n",
      "6 9 0\n",
      "6 10 0\n",
      "6 11 0\n",
      "7 0 0\n",
      "7 1 0\n",
      "7 2 0\n",
      "7 3 0\n",
      "7 4 0\n",
      "7 5 0\n",
      "7 6 0\n",
      "7 7 0\n",
      "7 8 0\n",
      "7 9 0\n",
      "7 10 0\n",
      "7 11 0\n",
      "8 0 0\n",
      "8 1 0\n",
      "8 2 0\n",
      "8 3 0\n",
      "8 4 0\n",
      "8 5 0\n",
      "8 6 0\n",
      "8 7 0\n",
      "8 8 0\n",
      "8 9 0\n",
      "8 10 0\n",
      "8 11 0\n",
      "9 0 0\n",
      "9 1 0\n",
      "9 2 0\n",
      "9 3 0\n",
      "9 4 0\n",
      "9 5 0\n",
      "9 6 0\n",
      "9 7 0\n",
      "9 8 0\n",
      "9 9 0\n",
      "9 10 0\n",
      "9 11 0\n",
      "10 0 0\n",
      "10 1 0\n",
      "10 2 0\n",
      "10 3 0\n",
      "10 4 0\n",
      "10 5 0\n",
      "10 6 0\n",
      "10 7 0\n",
      "10 8 0\n",
      "10 9 0\n",
      "10 10 0\n",
      "10 11 0\n",
      "11 0 0\n",
      "11 1 0\n",
      "11 2 0\n",
      "11 3 0\n",
      "11 4 0\n",
      "11 5 0\n",
      "11 6 0\n",
      "11 7 0\n",
      "11 8 0\n",
      "11 9 0\n",
      "11 10 0\n",
      "11 11 0\n",
      "12 0 0\n",
      "12 1 0\n",
      "12 2 0\n",
      "12 3 0\n",
      "12 4 0\n",
      "12 5 0\n",
      "12 6 0\n",
      "12 7 0\n",
      "12 8 0\n",
      "12 9 0\n",
      "12 10 0\n",
      "12 11 0\n",
      "13 0 0\n",
      "13 1 0\n",
      "13 2 0\n",
      "13 3 0\n",
      "13 4 0\n",
      "13 5 0\n",
      "13 6 0\n",
      "13 7 0\n",
      "13 8 0\n",
      "13 9 0\n",
      "13 10 0\n",
      "13 11 0\n",
      "14 0 0\n",
      "14 1 0\n",
      "14 2 0\n",
      "14 3 0\n",
      "14 4 0\n",
      "14 5 0\n",
      "14 6 0\n",
      "14 7 0\n",
      "14 8 0\n",
      "14 9 0\n",
      "14 10 0\n",
      "14 11 0\n"
     ]
    }
   ],
   "source": [
    "for j in range(len(cycles_yes)):\n",
    "    for i in range(len(cycles_yes[j])):\n",
    "        if A[j, i] != 1:\n",
    "            print(j, i, matrix_load[j, i])"
   ]
  },
  {
   "cell_type": "code",
   "execution_count": 48,
   "metadata": {},
   "outputs": [],
   "source": [
    "cycles_tuple = [tuple(row) for row in cycles_yes]\n",
    "cycles_tuple.sort\n",
    "cycles_uniques = np.unique(cycles_tuple, axis=0)"
   ]
  },
  {
   "cell_type": "code",
   "execution_count": 49,
   "metadata": {},
   "outputs": [
    {
     "data": {
      "text/plain": [
       "array([[  4, 134, 138, 142, 193, 197, 627, 789, 793, 868, 872, 876],\n",
       "       [  5,   9, 135, 180, 194, 235, 771, 790, 831, 850, 869, 873],\n",
       "       [  5, 135, 139, 143, 194, 198, 628, 790, 794, 869, 873, 877],\n",
       "       [  8, 138, 142, 146, 197, 201, 631, 793, 797, 872, 876, 880],\n",
       "       [ 12, 142, 146, 150, 201, 205, 635, 797, 801, 876, 880, 884],\n",
       "       [ 16, 146, 150, 154, 205, 209, 639, 801, 805, 880, 884, 888],\n",
       "       [ 20, 150, 154, 158, 209, 213, 579, 805, 809, 884, 888, 892],\n",
       "       [ 24, 154, 158, 162, 213, 217, 583, 809, 813, 832, 888, 892],\n",
       "       [ 28, 158, 162, 166, 217, 221, 587, 813, 817, 832, 836, 892],\n",
       "       [ 32, 162, 166, 170, 221, 225, 591, 817, 821, 832, 836, 840],\n",
       "       [ 36, 166, 170, 174, 225, 229, 595, 821, 825, 836, 840, 844],\n",
       "       [ 40, 170, 174, 178, 229, 233, 599, 825, 829, 840, 844, 848],\n",
       "       [ 44, 174, 178, 182, 233, 237, 603, 769, 829, 844, 848, 852],\n",
       "       [ 48, 178, 182, 186, 237, 241, 607, 769, 773, 848, 852, 856],\n",
       "       [ 52, 182, 186, 190, 241, 245, 611, 773, 777, 852, 856, 860]])"
      ]
     },
     "execution_count": 49,
     "metadata": {},
     "output_type": "execute_result"
    }
   ],
   "source": [
    "cycles_uniques"
   ]
  },
  {
   "cell_type": "code",
   "execution_count": 50,
   "metadata": {},
   "outputs": [],
   "source": [
    "len_cycles = [len(cycle) for cycle in cycles_uniques]\n",
    "len_cycles.sort()\n",
    "result = Counter(len_cycles)"
   ]
  },
  {
   "cell_type": "code",
   "execution_count": 51,
   "metadata": {},
   "outputs": [
    {
     "name": "stdout",
     "output_type": "stream",
     "text": [
      "Counter({12: 15})\n"
     ]
    }
   ],
   "source": [
    "print(result)"
   ]
  },
  {
   "cell_type": "code",
   "execution_count": null,
   "metadata": {},
   "outputs": [],
   "source": []
  }
 ],
 "metadata": {
  "file_extension": ".py",
  "kernelspec": {
   "display_name": "gt",
   "language": "python",
   "name": "gt"
  },
  "language_info": {
   "codemirror_mode": {
    "name": "ipython",
    "version": 3
   },
   "file_extension": ".py",
   "mimetype": "text/x-python",
   "name": "python",
   "nbconvert_exporter": "python",
   "pygments_lexer": "ipython3",
   "version": "3.7.7"
  },
  "mimetype": "text/x-python",
  "name": "python",
  "npconvert_exporter": "python",
  "pygments_lexer": "ipython3",
  "version": 3
 },
 "nbformat": 4,
 "nbformat_minor": 4
}
