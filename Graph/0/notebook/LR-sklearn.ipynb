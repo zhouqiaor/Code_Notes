{
 "cells": [
  {
   "cell_type": "code",
   "execution_count": 1,
   "metadata": {
    "ExecuteTime": {
     "end_time": "2020-03-18T09:12:27.243684Z",
     "start_time": "2020-03-18T09:12:27.238901Z"
    }
   },
   "outputs": [],
   "source": [
    "import math\n",
    "import datetime\n",
    "import sys\n",
    "import numpy as np"
   ]
  },
  {
   "cell_type": "code",
   "execution_count": 2,
   "metadata": {
    "ExecuteTime": {
     "end_time": "2020-03-18T09:12:29.191694Z",
     "start_time": "2020-03-18T09:12:28.990955Z"
    },
    "_cell_guid": "8dd5a78e-7ade-4fa3-93c0-b18be1214740",
    "_uuid": "a0fbf8ebb5f35a7d7fff6dbf61e697ed1df995bb"
   },
   "outputs": [],
   "source": [
    "import matplotlib.pyplot as plt\n",
    "%matplotlib inline"
   ]
  },
  {
   "cell_type": "code",
   "execution_count": 3,
   "metadata": {
    "ExecuteTime": {
     "end_time": "2020-03-18T09:15:50.647692Z",
     "start_time": "2020-03-18T09:15:50.638223Z"
    }
   },
   "outputs": [],
   "source": [
    "def loadDataSet(file_name, label_existed_flag):\n",
    "    feats = []\n",
    "    labels = []\n",
    "    fr = open(file_name)\n",
    "    lines = fr.readlines()\n",
    "    for line in lines:\n",
    "        temp = []\n",
    "        allInfo = line.strip().split(',')\n",
    "        dims = len(allInfo)\n",
    "        if label_existed_flag == 1:\n",
    "            for index in range(dims-1):\n",
    "                temp.append(float(allInfo[index]))\n",
    "            feats.append(temp)\n",
    "            labels.append(float(allInfo[dims-1]))\n",
    "        else:\n",
    "            for index in range(dims):\n",
    "                temp.append(float(allInfo[index]))\n",
    "            feats.append(temp)\n",
    "    fr.close()\n",
    "    feats = np.array(feats)\n",
    "    labels = np.array(labels)\n",
    "    return feats, labels"
   ]
  },
  {
   "cell_type": "code",
   "execution_count": 4,
   "metadata": {
    "ExecuteTime": {
     "end_time": "2020-03-18T09:15:55.191806Z",
     "start_time": "2020-03-18T09:15:55.187269Z"
    }
   },
   "outputs": [],
   "source": [
    "train_file =  \"../data/train_data.txt\"\n",
    "test_file = \"../data/test_data.txt\"\n",
    "predict_file = \"../projects/student/result.txt\""
   ]
  },
  {
   "cell_type": "code",
   "execution_count": 5,
   "metadata": {
    "ExecuteTime": {
     "end_time": "2020-03-18T09:16:00.367676Z",
     "start_time": "2020-03-18T09:15:56.819023Z"
    }
   },
   "outputs": [
    {
     "name": "stdout",
     "output_type": "stream",
     "text": [
      "CPU times: user 3.26 s, sys: 207 ms, total: 3.46 s\n",
      "Wall time: 3.46 s\n"
     ]
    }
   ],
   "source": [
    "%%time\n",
    "X_train, y_train = loadDataSet(train_file, 1)"
   ]
  },
  {
   "cell_type": "code",
   "execution_count": 6,
   "metadata": {
    "ExecuteTime": {
     "end_time": "2020-03-18T09:17:24.407681Z",
     "start_time": "2020-03-18T09:17:23.552408Z"
    }
   },
   "outputs": [
    {
     "name": "stdout",
     "output_type": "stream",
     "text": [
      "CPU times: user 795 ms, sys: 47.9 ms, total: 843 ms\n",
      "Wall time: 842 ms\n"
     ]
    }
   ],
   "source": [
    "%%time\n",
    "X_test, _ = loadDataSet(test_file, 0)\n",
    "answer_file = \"../projects/student/answer.txt\"\n",
    "_, y_test = loadDataSet(answer_file, 1)"
   ]
  },
  {
   "cell_type": "markdown",
   "metadata": {},
   "source": [
    "**Logistic Regression**"
   ]
  },
  {
   "cell_type": "code",
   "execution_count": 7,
   "metadata": {},
   "outputs": [],
   "source": [
    "from sklearn.linear_model import LogisticRegression\n",
    "import time\n",
    "score_max_i_100 = []\n",
    "times_max_i_100 = []\n",
    "score_conv = []\n",
    "times_conv = []\n",
    "solvers = [\"Newton-cg-> \",\"L-BFGS-> \", \"SAG-> \",\"SAGA-> \"]"
   ]
  },
  {
   "cell_type": "markdown",
   "metadata": {},
   "source": [
    "Maximum Iterations = 100"
   ]
  },
  {
   "cell_type": "code",
   "execution_count": 8,
   "metadata": {},
   "outputs": [],
   "source": [
    "#Trains model using Logistic Regression model\n",
    "#Solver \"newton-cg\"\n",
    "logisticRegr = LogisticRegression(random_state=0, solver='newton-cg')\n",
    "start_time = time.time()\n",
    "logisticRegr.fit(X_train, y_train)\n",
    "times_max_i_100.append(time.time()-start_time)"
   ]
  },
  {
   "cell_type": "code",
   "execution_count": 9,
   "metadata": {},
   "outputs": [
    {
     "name": "stdout",
     "output_type": "stream",
     "text": [
      "0.845\n"
     ]
    }
   ],
   "source": [
    "#Calculating model accuracy\n",
    "score = logisticRegr.score(X_test, y_test)\n",
    "score_max_i_100.append(score)\n",
    "print(score)"
   ]
  },
  {
   "cell_type": "code",
   "execution_count": 10,
   "metadata": {},
   "outputs": [
    {
     "name": "stderr",
     "output_type": "stream",
     "text": [
      "/root/miniconda3/envs/kunpeng/lib/python3.7/site-packages/sklearn/linear_model/_logistic.py:940: ConvergenceWarning: lbfgs failed to converge (status=1):\n",
      "STOP: TOTAL NO. of ITERATIONS REACHED LIMIT.\n",
      "\n",
      "Increase the number of iterations (max_iter) or scale the data as shown in:\n",
      "    https://scikit-learn.org/stable/modules/preprocessing.html\n",
      "Please also refer to the documentation for alternative solver options:\n",
      "    https://scikit-learn.org/stable/modules/linear_model.html#logistic-regression\n",
      "  extra_warning_msg=_LOGISTIC_SOLVER_CONVERGENCE_MSG)\n"
     ]
    }
   ],
   "source": [
    "#Trains model using Logistic Regression model\n",
    "#Solver \"lbfgs\"\n",
    "logisticRegr = LogisticRegression(random_state=0, solver='lbfgs')\n",
    "start_time = time.time()\n",
    "logisticRegr.fit(X_train, y_train)\n",
    "times_max_i_100.append(time.time()-start_time)"
   ]
  },
  {
   "cell_type": "code",
   "execution_count": 11,
   "metadata": {},
   "outputs": [
    {
     "name": "stdout",
     "output_type": "stream",
     "text": [
      "0.8445\n"
     ]
    }
   ],
   "source": [
    "#Calculating model accuracy\n",
    "score = logisticRegr.score(X_test, y_test)\n",
    "score_max_i_100.append(score)\n",
    "print(score)"
   ]
  },
  {
   "cell_type": "code",
   "execution_count": 12,
   "metadata": {},
   "outputs": [],
   "source": [
    "#Trains model using Logistic Regression model\n",
    "#Solver \"sag\"\n",
    "logisticRegr = LogisticRegression(random_state=0, solver='sag')\n",
    "start_time = time.time()\n",
    "logisticRegr.fit(X_train, y_train)\n",
    "times_max_i_100.append(time.time()-start_time)"
   ]
  },
  {
   "cell_type": "code",
   "execution_count": 13,
   "metadata": {},
   "outputs": [
    {
     "name": "stdout",
     "output_type": "stream",
     "text": [
      "0.8435\n"
     ]
    }
   ],
   "source": [
    "#Calculating model accuracy\n",
    "score = logisticRegr.score(X_test, y_test)\n",
    "score_max_i_100.append(score)\n",
    "print(score)"
   ]
  },
  {
   "cell_type": "code",
   "execution_count": 14,
   "metadata": {},
   "outputs": [],
   "source": [
    "#Trains model using Logistic Regression model\n",
    "#Solver \"saga\"\n",
    "logisticRegr = LogisticRegression(random_state=0, solver='saga')\n",
    "start_time = time.time()\n",
    "logisticRegr.fit(X_train, y_train)\n",
    "times_max_i_100.append(time.time()-start_time)"
   ]
  },
  {
   "cell_type": "code",
   "execution_count": 15,
   "metadata": {},
   "outputs": [
    {
     "name": "stdout",
     "output_type": "stream",
     "text": [
      "0.8435\n"
     ]
    }
   ],
   "source": [
    "#Calculating model accuracy\n",
    "score = logisticRegr.score(X_test, y_test)\n",
    "score_max_i_100.append(score)\n",
    "print(score)"
   ]
  },
  {
   "cell_type": "code",
   "execution_count": 16,
   "metadata": {},
   "outputs": [
    {
     "name": "stdout",
     "output_type": "stream",
     "text": [
      "Newton-cg->  Accuracy: 84.5  Time:  2.4787\n",
      "L-BFGS->  Accuracy: 84.45  Time:  1.1379\n",
      "SAG->  Accuracy: 84.35  Time:  2.1967\n",
      "SAGA->  Accuracy: 84.35  Time:  4.2073\n"
     ]
    }
   ],
   "source": [
    "for i in range(4):\n",
    "    print(solvers[i],\"Accuracy:\",round(100*score_max_i_100[i],2),\" Time: \",round(times_max_i_100[i],4))"
   ]
  },
  {
   "cell_type": "markdown",
   "metadata": {},
   "source": [
    "**Minimum Iterations for Convergeance**"
   ]
  },
  {
   "cell_type": "code",
   "execution_count": 17,
   "metadata": {},
   "outputs": [],
   "source": [
    "#Trains model using Logistic Regression model\n",
    "#Solver \"newton-cg\"\n",
    "logisticRegr = LogisticRegression(random_state=0, max_iter=37, solver='newton-cg')\n",
    "start_time = time.time()\n",
    "logisticRegr.fit(X_train, y_train)\n",
    "times_conv.append(time.time()-start_time)"
   ]
  },
  {
   "cell_type": "code",
   "execution_count": 18,
   "metadata": {},
   "outputs": [
    {
     "name": "stdout",
     "output_type": "stream",
     "text": [
      "0.845\n"
     ]
    }
   ],
   "source": [
    "#Calculating model accuracy\n",
    "score = logisticRegr.score(X_test, y_test)\n",
    "score_conv.append(score)\n",
    "print(score)"
   ]
  },
  {
   "cell_type": "code",
   "execution_count": 20,
   "metadata": {},
   "outputs": [],
   "source": [
    "#Trains model using Logistic Regression model\n",
    "#Solver \"lbfgs\"\n",
    "logisticRegr = LogisticRegression(random_state=0, max_iter=3045, solver='lbfgs')\n",
    "start_time = time.time()\n",
    "logisticRegr.fit(X_train, y_train)\n",
    "times_conv.append(time.time()-start_time)"
   ]
  },
  {
   "cell_type": "code",
   "execution_count": 21,
   "metadata": {},
   "outputs": [
    {
     "name": "stdout",
     "output_type": "stream",
     "text": [
      "0.8455\n"
     ]
    }
   ],
   "source": [
    "#Calculating model accuracy\n",
    "score = logisticRegr.score(X_test, y_test)\n",
    "score_conv.append(score)\n",
    "print(score)"
   ]
  },
  {
   "cell_type": "code",
   "execution_count": 22,
   "metadata": {},
   "outputs": [],
   "source": [
    "#Trains model using Logistic Regression model\n",
    "#Solver \"sag\"\n",
    "logisticRegr = LogisticRegression(random_state=0, max_iter=689, solver='sag')\n",
    "start_time = time.time()\n",
    "logisticRegr.fit(X_train, y_train)\n",
    "times_conv.append(time.time()-start_time)"
   ]
  },
  {
   "cell_type": "code",
   "execution_count": 23,
   "metadata": {},
   "outputs": [
    {
     "name": "stdout",
     "output_type": "stream",
     "text": [
      "0.8435\n"
     ]
    }
   ],
   "source": [
    "#Calculating model accuracy\n",
    "score = logisticRegr.score(X_test, y_test)\n",
    "score_conv.append(score)\n",
    "print(score)"
   ]
  },
  {
   "cell_type": "code",
   "execution_count": 24,
   "metadata": {},
   "outputs": [],
   "source": [
    "#Trains model using Logistic Regression model\n",
    "#Solver \"saga\"\n",
    "logisticRegr = LogisticRegression(random_state=0, max_iter=1009, solver='saga')\n",
    "start_time = time.time()\n",
    "logisticRegr.fit(X_train, y_train)\n",
    "times_conv.append(time.time()-start_time)"
   ]
  },
  {
   "cell_type": "code",
   "execution_count": 25,
   "metadata": {},
   "outputs": [
    {
     "name": "stdout",
     "output_type": "stream",
     "text": [
      "0.8435\n"
     ]
    }
   ],
   "source": [
    "#Calculating model accuracy\n",
    "score = logisticRegr.score(X_test, y_test)\n",
    "score_conv.append(score)\n",
    "print(score)"
   ]
  },
  {
   "cell_type": "code",
   "execution_count": 26,
   "metadata": {},
   "outputs": [
    {
     "name": "stdout",
     "output_type": "stream",
     "text": [
      "Newton-cg->  Accuracy: 84.5  Time:  2.4577\n",
      "L-BFGS->  Accuracy: 84.55  Time:  1.6309\n",
      "SAG->  Accuracy: 84.35  Time:  2.176\n",
      "SAGA->  Accuracy: 84.35  Time:  4.1934\n"
     ]
    }
   ],
   "source": [
    "for i in range(4):\n",
    "    print(solvers[i],\"Accuracy:\",round(100*score_conv[i],2),\" Time: \",round(times_conv[i],4))"
   ]
  },
  {
   "cell_type": "markdown",
   "metadata": {},
   "source": [
    "**Using Bigger Training Set**"
   ]
  },
  {
   "cell_type": "markdown",
   "metadata": {},
   "source": [
    "#Splitting dataset 5% for test and 95% for training\n",
    "x_train, x_test, y_train, y_test = train_test_split(digits.data, digits.target, test_size=0.05, random_state=0)\n",
    "\n",
    "score_sag = []\n",
    "score_saga = []"
   ]
  },
  {
   "cell_type": "markdown",
   "metadata": {},
   "source": [
    "#Trains model using Logistic Regression model\n",
    "#Solver \"sag\"\n",
    "logisticRegr = LogisticRegression(random_state=0, solver='sag',multi_class='multinomial')\n",
    "logisticRegr.fit(x_train, y_train)\n",
    "\n",
    "#Calculating model accuracy\n",
    "score = logisticRegr.score(x_test, y_test)\n",
    "score_sag.append(score)\n",
    "print(score)"
   ]
  },
  {
   "cell_type": "markdown",
   "metadata": {},
   "source": [
    "#Trains model using Logistic Regression model\n",
    "#Solver \"sag\"\n",
    "logisticRegr = LogisticRegression(random_state=0, max_iter = 930, solver='sag',multi_class='multinomial')\n",
    "logisticRegr.fit(x_train, y_train)\n",
    "\n",
    "#Calculating model accuracy\n",
    "score = logisticRegr.score(x_test, y_test)\n",
    "score_sag.append(score)\n",
    "print(score)"
   ]
  },
  {
   "cell_type": "markdown",
   "metadata": {},
   "source": [
    "#Trains model using Logistic Regression model\n",
    "#Solver \"saga\"\n",
    "logisticRegr = LogisticRegression(random_state=0, solver='saga',multi_class='multinomial')\n",
    "logisticRegr.fit(x_train, y_train)\n",
    "\n",
    "#Calculating model accuracy\n",
    "score = logisticRegr.score(x_test, y_test)\n",
    "score_saga.append(score)\n",
    "print(score)"
   ]
  },
  {
   "cell_type": "markdown",
   "metadata": {},
   "source": [
    "#Trains model using Logistic Regression model\n",
    "#Solver \"saga\"\n",
    "logisticRegr = LogisticRegression(random_state=0, max_iter = 1173, solver='saga',multi_class='multinomial')\n",
    "logisticRegr.fit(x_train, y_train)\n",
    "\n",
    "#Calculating model accuracy\n",
    "score = logisticRegr.score(x_test, y_test)\n",
    "score_saga.append(score)\n",
    "print(score)"
   ]
  },
  {
   "cell_type": "markdown",
   "metadata": {},
   "source": [
    "print(\"SAG:\")\n",
    "print(\"Accuracy(without convergeance):\",round(100*score_sag[0],2))\n",
    "print(\"Accuracy(with convergeance):\",round(100*score_sag[1],2))\n",
    "print(\"SAGA:\")\n",
    "print(\"Accuracy(without convergeance):\",round(100*score_saga[0],2))\n",
    "print(\"Accuracy(with convergeance):\",round(100*score_saga[1],2))"
   ]
  }
 ],
 "metadata": {
  "kernelspec": {
   "display_name": "kpkn",
   "language": "python",
   "name": "kpkn"
  },
  "language_info": {
   "codemirror_mode": {
    "name": "ipython",
    "version": 3
   },
   "file_extension": ".py",
   "mimetype": "text/x-python",
   "name": "python",
   "nbconvert_exporter": "python",
   "pygments_lexer": "ipython3",
   "version": "3.7.0"
  }
 },
 "nbformat": 4,
 "nbformat_minor": 4
}
