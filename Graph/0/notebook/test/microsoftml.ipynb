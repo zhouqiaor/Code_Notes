{
 "cells": [
  {
   "cell_type": "code",
   "execution_count": 1,
   "metadata": {},
   "outputs": [
    {
     "ename": "ModuleNotFoundError",
     "evalue": "No module named 'microsoftml'",
     "output_type": "error",
     "traceback": [
      "\u001b[0;31m---------------------------------------------------------------------------\u001b[0m",
      "\u001b[0;31mModuleNotFoundError\u001b[0m                       Traceback (most recent call last)",
      "\u001b[0;32m<ipython-input-1-5bf93bc06376>\u001b[0m in \u001b[0;36m<module>\u001b[0;34m\u001b[0m\n\u001b[1;32m      4\u001b[0m \u001b[0;32mimport\u001b[0m \u001b[0mnumpy\u001b[0m\u001b[0;34m\u001b[0m\u001b[0m\n\u001b[1;32m      5\u001b[0m \u001b[0;32mimport\u001b[0m \u001b[0mpandas\u001b[0m\u001b[0;34m\u001b[0m\u001b[0m\n\u001b[0;32m----> 6\u001b[0;31m \u001b[0;32mfrom\u001b[0m \u001b[0mmicrosoftml\u001b[0m \u001b[0;32mimport\u001b[0m \u001b[0mrx_logistic_regression\u001b[0m\u001b[0;34m,\u001b[0m \u001b[0mrx_predict\u001b[0m\u001b[0;34m\u001b[0m\u001b[0m\n\u001b[0m\u001b[1;32m      7\u001b[0m \u001b[0;32mfrom\u001b[0m \u001b[0mrevoscalepy\u001b[0m\u001b[0;34m.\u001b[0m\u001b[0metl\u001b[0m\u001b[0;34m.\u001b[0m\u001b[0mRxDataStep\u001b[0m \u001b[0;32mimport\u001b[0m \u001b[0mrx_data_step\u001b[0m\u001b[0;34m\u001b[0m\u001b[0m\n\u001b[1;32m      8\u001b[0m \u001b[0;32mfrom\u001b[0m \u001b[0mmicrosoftml\u001b[0m\u001b[0;34m.\u001b[0m\u001b[0mdatasets\u001b[0m\u001b[0;34m.\u001b[0m\u001b[0mdatasets\u001b[0m \u001b[0;32mimport\u001b[0m \u001b[0mget_dataset\u001b[0m\u001b[0;34m\u001b[0m\u001b[0m\n",
      "\u001b[0;31mModuleNotFoundError\u001b[0m: No module named 'microsoftml'"
     ]
    }
   ],
   "source": [
    "'''\n",
    "Binary Classification.\n",
    "'''\n",
    "import numpy\n",
    "import pandas\n",
    "from microsoftml import rx_logistic_regression, rx_predict\n",
    "from revoscalepy.etl.RxDataStep import rx_data_step\n",
    "from microsoftml.datasets.datasets import get_dataset\n",
    "\n",
    "infert = get_dataset(\"infert\")\n",
    "\n",
    "\n",
    "import sklearn\n",
    "if sklearn.__version__ < \"0.18\":\n",
    "    from sklearn.cross_validation import train_test_split\n",
    "else:\n",
    "    from sklearn.model_selection import train_test_split\n",
    "\n",
    "infertdf = infert.as_df()\n",
    "infertdf[\"isCase\"] = infertdf.case == 1\n",
    "data_train, data_test, y_train, y_test = train_test_split(infertdf, infertdf.isCase)\n",
    "\n",
    "model = rx_logistic_regression(\n",
    "    formula=\" isCase ~ age + parity + education + spontaneous + induced \",\n",
    "    data=data_train)\n",
    "\n",
    "print(model.coef_)\n",
    "    \n",
    "# RuntimeError: The type (RxTextData) for file is not supported.\n",
    "score_ds = rx_predict(model, data=data_test,\n",
    "                     extra_vars_to_write=[\"isCase\", \"Score\"])\n",
    "                     \n",
    "# Print the first five rows\n",
    "print(rx_data_step(score_ds, number_rows_read=5))"
   ]
  },
  {
   "cell_type": "code",
   "execution_count": null,
   "metadata": {},
   "outputs": [],
   "source": []
  }
 ],
 "metadata": {
  "kernelspec": {
   "display_name": "kpkn",
   "language": "python",
   "name": "kpkn"
  },
  "language_info": {
   "codemirror_mode": {
    "name": "ipython",
    "version": 3
   },
   "file_extension": ".py",
   "mimetype": "text/x-python",
   "name": "python",
   "nbconvert_exporter": "python",
   "pygments_lexer": "ipython3",
   "version": "3.7.0"
  }
 },
 "nbformat": 4,
 "nbformat_minor": 4
}
