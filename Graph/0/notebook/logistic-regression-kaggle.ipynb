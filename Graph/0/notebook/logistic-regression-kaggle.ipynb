{
 "cells": [
  {
   "cell_type": "markdown",
   "metadata": {
    "_cell_guid": "d0301e18-f10e-4852-9204-44d836fc8d5d",
    "_uuid": "80400d9a1749dd9acd813fbc077f2fb1668a66dd"
   },
   "source": [
    "### Table of Contents\n",
    "\n",
    "1. Overview of the Problem set\n",
    "\n",
    "2. Load and prep the data\n",
    "\n",
    "3. Building the parts of our algorithm.\n",
    "\n",
    "4. Merge all functions into a model\n",
    "\n",
    "5. Visualizing and Analysis\n",
    "\n",
    "6. Lab"
   ]
  },
  {
   "cell_type": "code",
   "execution_count": 1,
   "metadata": {
    "_cell_guid": "8dd5a78e-7ade-4fa3-93c0-b18be1214740",
    "_uuid": "a0fbf8ebb5f35a7d7fff6dbf61e697ed1df995bb"
   },
   "outputs": [],
   "source": [
    "import os\n",
    "import random\n",
    "import sys\n",
    "import datetime\n",
    "## pip3 install opencv-python\n",
    "# import cv2\n",
    "import numpy as np\n",
    "import matplotlib.pyplot as plt\n",
    "\n",
    "%matplotlib inline"
   ]
  },
  {
   "cell_type": "code",
   "execution_count": 2,
   "metadata": {
    "_cell_guid": "4cd88eaf-cff7-417a-932c-62b68bcdaa63",
    "_uuid": "9bffff1e8541552d6980fa51b5bcf6b17a923b9b"
   },
   "outputs": [],
   "source": [
    "## constants\n",
    "# TRAIN_DIR = \"../input/train/\"\n",
    "# TEST_DIR = \"../input/test/\"\n",
    "TRAIN_SIZE = 8000\n",
    "TEST_SIZE = 2000\n",
    "DEV_RATIO = 0.1\n",
    "# IMAGE_HEIGHT = IMAGE_WIDTH = 128\n",
    "\n",
    "LEARNING_RATE = 0.0001\n",
    "MINIBATCH_SIZE = 32\n",
    "INPUT_SIZE = 1000 #IMAGE_HEIGHT * IMAGE_WIDTH * 3\n",
    "OUTPUT_SIZE = 2"
   ]
  },
  {
   "cell_type": "markdown",
   "metadata": {
    "_cell_guid": "b951bacf-6d87-43a5-b937-deab5df1a1ef",
    "_uuid": "32558ac5d02059e297c4d96163ee1f06e7eb7582"
   },
   "source": [
    "### Overview of the Problem set\n",
    "A fun project to differentiate dogs from cats. Dataset is from Kaggle: https://www.kaggle.com/c/dogs-vs-cats-redux-kernels-edition.\n",
    "\n",
    "The ./input/train/ dir contains 12500 cat images and 12500 dog images. Each filename contains \"cat\" or \"dog\" as label.\n",
    "\n",
    "The ./input/test/ dir contains 12500 images to classify\n"
   ]
  },
  {
   "cell_type": "markdown",
   "metadata": {
    "_cell_guid": "f563a837-c719-4937-b918-dd5e59b9e27d",
    "_uuid": "31090eea5f459eedbcbe84216060e1f75266d54d"
   },
   "source": [
    "### Load and prep the data"
   ]
  },
  {
   "cell_type": "code",
   "execution_count": 3,
   "metadata": {
    "ExecuteTime": {
     "end_time": "2020-03-14T16:52:44.071660Z",
     "start_time": "2020-03-14T16:52:44.066537Z"
    }
   },
   "outputs": [],
   "source": [
    "import numpy as np\n",
    "import time\n",
    "import math"
   ]
  },
  {
   "cell_type": "code",
   "execution_count": 4,
   "metadata": {
    "ExecuteTime": {
     "end_time": "2020-03-14T16:52:47.007871Z",
     "start_time": "2020-03-14T16:52:46.998250Z"
    },
    "jupyter": {
     "source_hidden": true
    }
   },
   "outputs": [],
   "source": [
    "def loadDataSet(file_name, label_existed_flag):\n",
    "    feats = []\n",
    "    labels = []\n",
    "    fr = open(file_name)\n",
    "    lines = fr.readlines()\n",
    "    for line in lines:\n",
    "        temp = []\n",
    "        allInfo = line.strip().split(',')\n",
    "        dims = len(allInfo)\n",
    "        if label_existed_flag == 1:\n",
    "            for index in range(dims-1):\n",
    "                temp.append(float(allInfo[index]))\n",
    "            feats.append(temp)\n",
    "            labels.append(float(allInfo[dims-1]))\n",
    "        else:\n",
    "            for index in range(dims):\n",
    "                temp.append(float(allInfo[index]))\n",
    "            feats.append(temp)\n",
    "    fr.close()\n",
    "    feats0 = np.array(feats)\n",
    "    labels0 = np.array(labels)\n",
    "    return feats0, labels0"
   ]
  },
  {
   "cell_type": "code",
   "execution_count": 5,
   "metadata": {
    "ExecuteTime": {
     "end_time": "2020-03-14T16:52:49.019719Z",
     "start_time": "2020-03-14T16:52:49.015191Z"
    }
   },
   "outputs": [],
   "source": [
    "train_file =  \"data/train_data.txt\"\n",
    "test_file = \"data/test_data.txt\"\n",
    "predict_file = \"projects/student/result.txt\""
   ]
  },
  {
   "cell_type": "code",
   "execution_count": 6,
   "metadata": {
    "ExecuteTime": {
     "end_time": "2020-03-14T16:52:55.611703Z",
     "start_time": "2020-03-14T16:52:50.249889Z"
    }
   },
   "outputs": [
    {
     "name": "stdout",
     "output_type": "stream",
     "text": [
      "CPU times: user 3.25 s, sys: 256 ms, total: 3.5 s\n",
      "Wall time: 3.5 s\n"
     ]
    }
   ],
   "source": [
    "%%time\n",
    "X_train, y_train = loadDataSet(train_file, 1)"
   ]
  },
  {
   "cell_type": "markdown",
   "metadata": {
    "ExecuteTime": {
     "end_time": "2020-03-14T16:52:55.611703Z",
     "start_time": "2020-03-14T16:52:50.249889Z"
    }
   },
   "source": [
    "X, y = X_train, y_train"
   ]
  },
  {
   "cell_type": "code",
   "execution_count": 7,
   "metadata": {},
   "outputs": [
    {
     "name": "stdout",
     "output_type": "stream",
     "text": [
      "CPU times: user 800 ms, sys: 31.6 ms, total: 832 ms\n",
      "Wall time: 833 ms\n"
     ]
    }
   ],
   "source": [
    "%%time\n",
    "X_test, _ = loadDataSet(test_file, 0)\n",
    "answer_file = \"answer.txt\"\n",
    "_, y_test = loadDataSet(answer_file, 1)"
   ]
  },
  {
   "cell_type": "markdown",
   "metadata": {
    "_cell_guid": "05130aee-f02b-42f4-aa58-837ca2ceb40b",
    "_uuid": "8c0243bc373cf3c6aa71c7b3e517b5e3baacd174"
   },
   "source": [
    "### Building the parts of our algorithm."
   ]
  },
  {
   "cell_type": "markdown",
   "metadata": {
    "_cell_guid": "9ead5282-0208-437d-8c72-fca6a0256638",
    "_uuid": "7e5c4aef1dc6bbaf8e09d4dbebd86adde1ed5069"
   },
   "source": [
    "<img src=\"http://p1plx6n23.bkt.clouddn.com/LogReg_kiank.png\">\n",
    "\n",
    "Forward Propagation:\n",
    "- You get X\n",
    "- You compute $A = \\sigma(w^T X + b) = (a^{(0)}, a^{(1)}, ..., a^{(m-1)}, a^{(m)})$\n",
    "- You calculate the cost function: $J = -\\frac{1}{m}\\sum_{i=1}^{m}y^{(i)}\\log(a^{(i)})+(1-y^{(i)})\\log(1-a^{(i)})$\n",
    "\n",
    "Here are the two formulas you will be using: \n",
    "\n",
    "$$ \\frac{\\partial J}{\\partial w} = \\frac{1}{m}X(A-Y)^T\\tag{7}$$\n",
    "$$ \\frac{\\partial J}{\\partial b} = \\frac{1}{m} \\sum_{i=1}^m (a^{(i)}-y^{(i)})\\tag{8}$$"
   ]
  },
  {
   "cell_type": "code",
   "execution_count": 8,
   "metadata": {
    "_cell_guid": "39b13483-ca1c-4d9f-894c-560dd297d525",
    "_uuid": "b542bd4238872b6b15150f44c88648d2e840484c"
   },
   "outputs": [],
   "source": [
    "def sigmoid(z):\n",
    "    \"\"\"\n",
    "    Compute the sigmoid of z\n",
    "\n",
    "    Arguments:\n",
    "    z -- A scalar or numpy array of any size.\n",
    "\n",
    "    Return:\n",
    "    s -- sigmoid(z)\n",
    "    \"\"\"\n",
    "    \n",
    "    s = 1.0/(1.0 + np.exp(-1.0 * z))\n",
    "    \n",
    "    return s\n",
    "\n",
    "def initialize_with_zeros(dim):\n",
    "    \"\"\"\n",
    "    This function creates a vector of zeros of shape (dim, 1) for w and initializes b to 0.\n",
    "    \n",
    "    Argument:\n",
    "    dim -- size of the w vector we want (or number of parameters in this case)\n",
    "    \n",
    "    Returns:\n",
    "    w -- initialized vector of shape (dim, 1)\n",
    "    b -- initialized scalar (corresponds to the bias)\n",
    "    \"\"\"\n",
    "    \n",
    "    w = np.zeros(shape=(dim, 1), dtype=np.float32)\n",
    "    b = 0\n",
    "    \n",
    "    assert(w.shape == (dim, 1))\n",
    "    assert(isinstance(b, float) or isinstance(b, int))\n",
    "    \n",
    "    return w, b\n",
    "\n",
    "def propagate(w, b, X, Y):\n",
    "    \"\"\"\n",
    "    Implement the cost function and its gradient for the propagation explained above\n",
    "\n",
    "    Arguments:\n",
    "    w -- weights, a numpy array of size (num_px * num_px * 3, 1)\n",
    "    b -- bias, a scalar\n",
    "    X -- data of size (num_px * num_px * 3, number of examples)\n",
    "    Y -- true \"label\" vector (containing 0 if non-cat, 1 if cat) of size (1, number of examples)\n",
    "\n",
    "    Return:\n",
    "    cost -- negative log-likelihood cost for logistic regression\n",
    "    dw -- gradient of the loss with respect to w, thus same shape as w\n",
    "    db -- gradient of the loss with respect to b, thus same shape as b\n",
    "    \n",
    "    Tips:\n",
    "    - Write your code step by step for the propagation. np.log(), np.dot()\n",
    "    \"\"\"\n",
    "    \n",
    "    m = X.shape[1]\n",
    "    \n",
    "    # FORWARD PROPAGATION (FROM X TO COST)\n",
    "    #### W: shape of (num_px * num_px * 3, 1)\n",
    "    #### X: shape of (num_px * num_px * 3, number of examples)\n",
    "    #### Y: shape of (1, number of examples)\n",
    "    #print(\"shape of w\", w.shape)\n",
    "    #print(\"shape of X\", X.shape)\n",
    "    Z= np.matmul(w.T, X) + b\n",
    "    #print(\"shape of Z\", Z.shape)\n",
    "    A = sigmoid(Z)        ##### A shape of (1, number of examples)                            # compute activation\n",
    "    #print(\"shape of A\", A.shape)\n",
    "    #print(\"shape of Y\", Y.shape)\n",
    "    cost = (-1.0) * np.mean(np.multiply(Y.T, np.log(A)) + np.multiply(1.0-Y.T, np.log(1.0 - A)), axis=1)  \n",
    "    #cost = -np.mean(Y*np.log(A)+(1-Y)*np.log(1-A))\n",
    "    #cost = (Y * np.log(A) - (1 - Y) * np.log(1 - A)).mean()\n",
    "    #cost = np.power(label - preval, 2).sum()\n",
    "    # compute cost\n",
    "    #print(\"shape of cost\", cost.shape)\n",
    "\n",
    "    dw = np.matmul(X, np.transpose(A - Y)) * (1.0/m)  ### (n_p*n_p*3, m)(1, m).T=(n_p*n_p*3, 1)\n",
    "    db = np.mean((A - Y))\n",
    "    #print(\"shape of dw\", dw.shape)\n",
    "    \n",
    "    assert(dw.shape == w.shape)\n",
    "    assert(db.dtype == float)\n",
    "    cost = np.squeeze(cost)\n",
    "    assert(cost.shape == ())\n",
    "    \n",
    "    grads = {\"dw\": dw,\n",
    "             \"db\": db}\n",
    "    \n",
    "    return grads, cost\n",
    "\n",
    "def optimize(w, b, X, Y, num_iterations, learning_rate, print_cost = False):\n",
    "    \"\"\"\n",
    "    This function optimizes w and b by running a gradient descent algorithm\n",
    "    \n",
    "    Arguments:\n",
    "    w -- weights, a numpy array of size (num_px * num_px * 3, 1)\n",
    "    b -- bias, a scalar\n",
    "    X -- data of shape (num_px * num_px * 3, number of examples)\n",
    "    Y -- true \"label\" vector (containing 0 if non-cat, 1 if cat), of shape (1, number of examples)\n",
    "    num_iterations -- number of iterations of the optimization loop\n",
    "    learning_rate -- learning rate of the gradient descent update rule\n",
    "    print_cost -- True to print the loss every 100 steps\n",
    "    \n",
    "    Returns:\n",
    "    params -- dictionary containing the weights w and bias b\n",
    "    grads -- dictionary containing the gradients of the weights and bias with respect to the cost function\n",
    "    costs -- list of all the costs computed during the optimization, this will be used to plot the learning curve.\n",
    "    \n",
    "    Tips:\n",
    "    You basically need to write down two steps and iterate through them:\n",
    "        1) Calculate the cost and the gradient for the current parameters. Use propagate().\n",
    "        2) Update the parameters using gradient descent rule for w and b.\n",
    "    \"\"\"\n",
    "    \n",
    "    costs = []\n",
    "    \n",
    "    for i in range(num_iterations):\n",
    "        \n",
    "        \n",
    "        # Cost and gradient calculation \n",
    "        grads, cost = propagate(w, b, X, Y)\n",
    "        \n",
    "        # Retrieve derivatives from grads\n",
    "        dw = grads[\"dw\"]\n",
    "        db = grads[\"db\"]\n",
    "        \n",
    "        # update rule\n",
    "        w = w - learning_rate * dw\n",
    "        b = b - learning_rate * db\n",
    "        \n",
    "        # Record the costs\n",
    "        if i % 100 == 0:\n",
    "            costs.append(cost)\n",
    "        \n",
    "        # Print the cost every 100 training examples\n",
    "        if print_cost and i % 100 == 0:\n",
    "            print (\"Cost after iteration %i: %f\" %(i, cost))\n",
    "    \n",
    "    params = {\"w\": w,\n",
    "              \"b\": b}\n",
    "    \n",
    "    grads = {\"dw\": dw,\n",
    "             \"db\": db}\n",
    "    \n",
    "    return params, grads, costs\n",
    "\n",
    "def predict(w, b, X):\n",
    "    '''\n",
    "    Predict whether the label is 0 or 1 using learned logistic regression parameters (w, b)\n",
    "    \n",
    "    Arguments:\n",
    "    w -- weights, a numpy array of size (num_px * num_px * 3, 1)\n",
    "    b -- bias, a scalar\n",
    "    X -- data of size (num_px * num_px * 3, number of examples)\n",
    "    \n",
    "    Returns:\n",
    "    Y_prediction -- a numpy array (vector) containing all predictions (0/1) for the examples in X\n",
    "    '''\n",
    "    \n",
    "    m = X.shape[1]\n",
    "    Y_prediction = np.zeros((1,m))\n",
    "    w = w.reshape(X.shape[0], 1)\n",
    "    \n",
    "    # Compute vector \"A\" predicting the probabilities of a cat being present in the picture\n",
    "    A = sigmoid(np.matmul(w.T, X) + b)\n",
    "    \n",
    "    for i in range(A.shape[1]):\n",
    "        \n",
    "        # Convert probabilities A[0,i] to actual predictions p[0,i]\n",
    "        if A[0, i] > 0.5:\n",
    "            Y_prediction[0, i] = 1\n",
    "        else:\n",
    "            Y_prediction[0, i] = 0\n",
    "    \n",
    "    assert(Y_prediction.shape == (1, m))\n",
    "    \n",
    "    return Y_prediction"
   ]
  },
  {
   "cell_type": "markdown",
   "metadata": {
    "_cell_guid": "88827fa2-f717-4c22-8d26-fab0c975619a",
    "_uuid": "edc9077ef421708c34e008664519b7819dd1d114"
   },
   "source": [
    "### Merge all functions into a model"
   ]
  },
  {
   "cell_type": "code",
   "execution_count": 9,
   "metadata": {
    "_cell_guid": "e3da9365-0c89-4710-800b-fb52744566b4",
    "_uuid": "cc59deb0eab93439a8c8af4d12f861d4021dab4a"
   },
   "outputs": [],
   "source": [
    "def model(X_train, Y_train, X_test, Y_test, num_iterations = 300, learning_rate = 0.1, print_cost = False):\n",
    "    \"\"\"\n",
    "    Builds the logistic regression model by calling the function you've implemented previously\n",
    "    \n",
    "    Arguments:\n",
    "    X_train -- training set represented by a numpy array of shape (num_px * num_px * 3, m_train)\n",
    "    Y_train -- training labels represented by a numpy array (vector) of shape (1, m_train)\n",
    "    X_test -- test set represented by a numpy array of shape (num_px * num_px * 3, m_test)\n",
    "    Y_test -- test labels represented by a numpy array (vector) of shape (1, m_test)\n",
    "    num_iterations -- hyperparameter representing the number of iterations to optimize the parameters\n",
    "    learning_rate -- hyperparameter representing the learning rate used in the update rule of optimize()\n",
    "    print_cost -- Set to true to print the cost every 100 iterations\n",
    "    \n",
    "    Returns:\n",
    "    d -- dictionary containing information about the model.\n",
    "    \"\"\"\n",
    "    \n",
    "    # initialize parameters with zeros (≈ 1 line of code)\n",
    "    w, b = initialize_with_zeros(X_train.shape[0])\n",
    "\n",
    "    # Gradient descent (≈ 1 line of code)\n",
    "    parameters, grads, costs = optimize(w, b, X_train, Y_train, num_iterations, learning_rate, print_cost = print_cost)\n",
    "    \n",
    "    # Retrieve parameters w and b from dictionary \"parameters\"\n",
    "    w = parameters[\"w\"]\n",
    "    b = parameters[\"b\"]\n",
    "    \n",
    "    # Predict test/train set examples (≈ 2 lines of code)\n",
    "    Y_prediction_test = predict(w, b, X_test)\n",
    "    Y_prediction_train = predict(w, b, X_train)\n",
    "\n",
    "    # Print train/test Errors\n",
    "    print(\"train accuracy: {} %\".format(100 - np.mean(np.abs(Y_prediction_train - Y_train)) * 100))\n",
    "    print(\"test accuracy: {} %\".format(100 - np.mean(np.abs(Y_prediction_test - Y_test)) * 100))\n",
    "\n",
    "    \n",
    "    d = {\"costs\": costs,\n",
    "         \"Y_prediction_test\": Y_prediction_test, \n",
    "         \"Y_prediction_train\" : Y_prediction_train, \n",
    "         \"w\" : w, \n",
    "         \"b\" : b,\n",
    "         \"learning_rate\" : learning_rate,\n",
    "         \"num_iterations\": num_iterations}\n",
    "    \n",
    "    return d"
   ]
  },
  {
   "cell_type": "markdown",
   "metadata": {
    "_cell_guid": "45259e3b-ee50-44fe-81e9-c7300a5bccd0",
    "_uuid": "b236776246c61724fae451d7781fba6fc99a98a1"
   },
   "source": [
    "> ### Visualizing and Analysis"
   ]
  },
  {
   "cell_type": "code",
   "execution_count": 10,
   "metadata": {
    "_cell_guid": "14464fee-fda7-405e-99ec-e417de4b8e1d",
    "_uuid": "419750ce6dbe29e5ca469474ac0e29da10d7ae03"
   },
   "outputs": [],
   "source": [
    "def plt_costs(d):\n",
    "    # Plot learning curve (with costs)\n",
    "    costs = np.squeeze(d['costs'])\n",
    "    plt.plot(costs)\n",
    "    plt.ylabel('cost')\n",
    "    plt.xlabel('iterations (per hundreds)')\n",
    "    plt.title(\"Learning rate =\" + str(d[\"learning_rate\"]))\n",
    "    #plt.show()"
   ]
  },
  {
   "cell_type": "markdown",
   "metadata": {
    "_cell_guid": "852c64c2-4579-49f6-82d3-141e86088fe3",
    "_uuid": "8a90b5901e9bc9eaffb1fc5419d521505c2211ee"
   },
   "source": [
    "d = model(train_images, train_labels, dev_images, dev_labels, num_iterations = 2000, learning_rate = 0.005, print_cost = True)"
   ]
  },
  {
   "cell_type": "code",
   "execution_count": 13,
   "metadata": {
    "_cell_guid": "852c64c2-4579-49f6-82d3-141e86088fe3",
    "_uuid": "8a90b5901e9bc9eaffb1fc5419d521505c2211ee"
   },
   "outputs": [
    {
     "name": "stdout",
     "output_type": "stream",
     "text": [
      "train accuracy: 75.7125 %\n",
      "test accuracy: 80.2 %\n",
      "CPU times: user 3min 39s, sys: 3.3 s, total: 3min 43s\n",
      "Wall time: 1min 53s\n"
     ]
    }
   ],
   "source": [
    "%%time\n",
    "d = model(X_train.T, y_train, X_test.T, y_test, \n",
    "          num_iterations = 10000, learning_rate = 0.1 \n",
    "         )#, print_cost = True)"
   ]
  },
  {
   "cell_type": "markdown",
   "metadata": {
    "_cell_guid": "c4a62300-a8da-4810-bb96-ab2b5378bc3f",
    "_uuid": "2de59ed953770eac03d24e6036a76fc9be3e5da9"
   },
   "source": [
    "predict_test_images(file_count=500)"
   ]
  },
  {
   "cell_type": "code",
   "execution_count": null,
   "metadata": {
    "_cell_guid": "14464fee-fda7-405e-99ec-e417de4b8e1d",
    "_uuid": "419750ce6dbe29e5ca469474ac0e29da10d7ae03"
   },
   "outputs": [],
   "source": [
    "plt_costs(d)"
   ]
  },
  {
   "cell_type": "code",
   "execution_count": null,
   "metadata": {
    "_cell_guid": "852c64c2-4579-49f6-82d3-141e86088fe3",
    "_uuid": "8a90b5901e9bc9eaffb1fc5419d521505c2211ee"
   },
   "outputs": [],
   "source": [
    "d = model(X_train.T, y_train, X_test.T, y_test,\n",
    "          num_iterations = 10000, learning_rate = 0.01\n",
    "         )#, print_cost = True)"
   ]
  },
  {
   "cell_type": "code",
   "execution_count": null,
   "metadata": {
    "_cell_guid": "14464fee-fda7-405e-99ec-e417de4b8e1d",
    "_uuid": "419750ce6dbe29e5ca469474ac0e29da10d7ae03"
   },
   "outputs": [],
   "source": [
    "plt_costs(d)"
   ]
  },
  {
   "cell_type": "markdown",
   "metadata": {
    "_cell_guid": "f1b68758-ff60-4264-9800-8939f69f91c1",
    "_uuid": "3ad359df0b8ca59670317f108af0d74719e86cc6"
   },
   "source": [
    "### Lab"
   ]
  },
  {
   "cell_type": "markdown",
   "metadata": {
    "_cell_guid": "fabfc24e-e3c6-424b-8278-19a20cbd2c15",
    "_uuid": "4bd725c8ddc004b5ee3ee3641c275f3c56d9e52f"
   },
   "source": [
    "##### Use more training data "
   ]
  }
 ],
 "metadata": {
  "kernelspec": {
   "display_name": "kpkn",
   "language": "python",
   "name": "kpkn"
  },
  "language_info": {
   "codemirror_mode": {
    "name": "ipython",
    "version": 3
   },
   "file_extension": ".py",
   "mimetype": "text/x-python",
   "name": "python",
   "nbconvert_exporter": "python",
   "pygments_lexer": "ipython3",
   "version": "3.7.0"
  }
 },
 "nbformat": 4,
 "nbformat_minor": 4
}
