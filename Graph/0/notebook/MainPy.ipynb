{
 "cells": [
  {
   "cell_type": "code",
   "execution_count": 1,
   "metadata": {},
   "outputs": [],
   "source": [
    "import math\n",
    "import datetime\n",
    "import sys\n",
    "import numpy as np"
   ]
  },
  {
   "cell_type": "code",
   "execution_count": 2,
   "metadata": {},
   "outputs": [],
   "source": [
    "class LR:\n",
    "    def __init__(self, train_file_name, test_file_name, predict_result_file_name):\n",
    "        self.train_file = train_file_name\n",
    "        self.predict_file = test_file_name\n",
    "        self.predict_result_file = predict_result_file_name\n",
    "#         self.max_iters = 300\n",
    "#         self.rate = 0.1\n",
    "        self.feats = []\n",
    "        self.labels = []\n",
    "        self.feats_test = []\n",
    "        self.labels_predict = []\n",
    "        self.param_num = 0\n",
    "        self.weight = []\n",
    "\n",
    "    def loadDataSet(self, file_name, label_existed_flag):\n",
    "        feats = []\n",
    "        labels = []\n",
    "        fr = open(file_name)\n",
    "        lines = fr.readlines()\n",
    "        for line in lines:\n",
    "            temp = []\n",
    "            allInfo = line.strip().split(',')\n",
    "            dims = len(allInfo)\n",
    "            if label_existed_flag == 1:\n",
    "                for index in range(dims-1):\n",
    "                    temp.append(float(allInfo[index]))\n",
    "                feats.append(temp)\n",
    "                labels.append(float(allInfo[dims-1]))\n",
    "            else:\n",
    "                for index in range(dims):\n",
    "                    temp.append(float(allInfo[index]))\n",
    "                feats.append(temp)\n",
    "        fr.close()\n",
    "        feats = np.array(feats)\n",
    "        labels = np.array(labels)\n",
    "        return feats, labels\n",
    "\n",
    "    def loadTrainData(self):\n",
    "        self.feats, self.labels = self.loadDataSet(self.train_file, 1)\n",
    "\n",
    "    def loadTestData(self):\n",
    "        self.feats_test, self.labels_predict = self.loadDataSet(\n",
    "            self.predict_file, 0)\n",
    "\n",
    "    def savePredictResult(self):\n",
    "        print(self.labels_predict)\n",
    "        f = open(self.predict_result_file, 'w')\n",
    "        for i in range(len(self.labels_predict)):\n",
    "            f.write(str(self.labels_predict[i])+\"\\n\")\n",
    "        f.close()\n",
    "\n",
    "    def sigmod(self, x):\n",
    "        return 1/(1+np.exp(-x))\n",
    "\n",
    "    def printInfo(self):\n",
    "        print(self.train_file)\n",
    "        print(self.predict_file)\n",
    "        print(self.predict_result_file)\n",
    "        print(self.feats)\n",
    "        print(self.labels)\n",
    "        print(self.feats_test)\n",
    "        print(self.labels_predict)\n",
    "\n",
    "    def initParams(self):\n",
    "        self.weight = np.ones((self.param_num,), dtype=np.float)\n",
    "\n",
    "    def compute(self, recNum, param_num, feats, w):\n",
    "        return self.sigmod(np.dot(feats, w))\n",
    "\n",
    "    def error_rate(self, recNum, label, preval):\n",
    "        # 损失函数\n",
    "        return np.power(label - preval, 2).sum()\n",
    "        # cost = -np.mean(Y*np.log(A)+(1-Y)*np.log(1-A))\n",
    "        # cost = (Y * np.log(A) - (1 - Y) * np.log(1 - A)).mean()\n",
    "        # return (-1.0) * np.mean(np.multiply(Y, np.log(A)) + np.multiply(1.0-Y, np.log(1.0 - A)), axis=1)                                # compute cost\n",
    "\n",
    "    def predict(self):\n",
    "        self.loadTestData()\n",
    "        preval = self.compute(len(self.feats_test),\n",
    "                              self.param_num, self.feats_test, self.weight)\n",
    "        self.labels_predict = (preval+0.5).astype(np.int)\n",
    "        self.savePredictResult()\n",
    "\n",
    "    def train_gd(self, max_iters, rate, error_i):\n",
    "        # Gradient descent 梯度下降法\n",
    "        self.loadTrainData()\n",
    "        recNum = len(self.feats)\n",
    "        self.param_num = len(self.feats[0])\n",
    "        self.initParams()\n",
    "        ISOTIMEFORMAT = '%Y-%m-%d %H:%M:%S,f'\n",
    "        for i in range(max_iters):\n",
    "            preval = self.compute(recNum, self.param_num,\n",
    "                                  self.feats, self.weight)\n",
    "            sum_err = self.error_rate(recNum, self.labels, preval)\n",
    "            if i%error_i == 0:\n",
    "                print(\"Iters:\" + str(i) + \" error:\" + str(sum_err))\n",
    "                theTime = datetime.datetime.now().strftime(ISOTIMEFORMAT)\n",
    "                print(theTime)\n",
    "            err = self.labels - preval\n",
    "            delt_w = np.dot(self.feats.T, err)\n",
    "            delt_w /= recNum\n",
    "            self.weight += rate*delt_w"
   ]
  },
  {
   "cell_type": "markdown",
   "metadata": {},
   "source": [
    "def print_help_and_exit():\n",
    "    print(\"usage:python3 main.py train_data.txt test_data.txt predict.txt [debug]\")\n",
    "    sys.exit(-1)"
   ]
  },
  {
   "cell_type": "markdown",
   "metadata": {},
   "source": [
    "def parse_args():\n",
    "    debug = False\n",
    "    if len(sys.argv) == 2:\n",
    "        if sys.argv[1] == 'debug':\n",
    "            print(\"test mode\")\n",
    "            debug = True\n",
    "        else:\n",
    "            print_help_and_exit()\n",
    "    return debug"
   ]
  },
  {
   "cell_type": "code",
   "execution_count": 3,
   "metadata": {},
   "outputs": [],
   "source": [
    "# if __name__ == \"__main__\":\n",
    "#     debug = parse_args()\n",
    "train_file =  \"../data/train_data.txt\"\n",
    "test_file = \"../data/test_data.txt\"\n",
    "predict_file = \"../projects/student/result.txt\""
   ]
  },
  {
   "cell_type": "code",
   "execution_count": 4,
   "metadata": {},
   "outputs": [],
   "source": [
    "lr = LR(train_file, test_file, predict_file)"
   ]
  },
  {
   "cell_type": "markdown",
   "metadata": {},
   "source": [
    "## train max_iters=3000, rate=0.1"
   ]
  },
  {
   "cell_type": "code",
   "execution_count": 5,
   "metadata": {},
   "outputs": [
    {
     "name": "stdout",
     "output_type": "stream",
     "text": [
      "Iters:0 error:5051.0\n",
      "2020-03-18 20:37:16,f\n",
      "Iters:300 error:4474.116782414081\n",
      "2020-03-18 20:37:18,f\n",
      "Iters:600 error:4356.072640319351\n",
      "2020-03-18 20:37:21,f\n",
      "Iters:900 error:3696.0044602134813\n",
      "2020-03-18 20:37:24,f\n",
      "Iters:1200 error:3246.050114314364\n",
      "2020-03-18 20:37:28,f\n",
      "Iters:1500 error:2477.8451900303603\n",
      "2020-03-18 20:37:31,f\n",
      "Iters:1800 error:2235.9457306334252\n",
      "2020-03-18 20:37:34,f\n",
      "Iters:2100 error:2083.2450930199657\n",
      "2020-03-18 20:37:37,f\n",
      "Iters:2400 error:1941.1157276906101\n",
      "2020-03-18 20:37:40,f\n",
      "Iters:2700 error:1834.1491840540473\n",
      "2020-03-18 20:37:43,f\n",
      "CPU times: user 1min 1s, sys: 1.55 s, total: 1min 2s\n",
      "Wall time: 33.6 s\n"
     ]
    }
   ],
   "source": [
    "%%time\n",
    "lr.train_gd(max_iters=3000, rate=0.1, error_i=300)"
   ]
  },
  {
   "cell_type": "markdown",
   "metadata": {},
   "source": [
    "lr.error_rate"
   ]
  },
  {
   "cell_type": "code",
   "execution_count": 6,
   "metadata": {},
   "outputs": [
    {
     "name": "stdout",
     "output_type": "stream",
     "text": [
      "[0 1 0 ... 1 1 1]\n"
     ]
    }
   ],
   "source": [
    "lr.predict()"
   ]
  },
  {
   "cell_type": "code",
   "execution_count": 7,
   "metadata": {},
   "outputs": [],
   "source": [
    "#     if debug:\n",
    "answer_file =\"../projects/student/answer.txt\"\n",
    "f_a = open(answer_file, 'r')\n",
    "f_p = open(predict_file, 'r')\n",
    "a = []\n",
    "p = []\n",
    "lines = f_a.readlines()\n",
    "for line in lines:\n",
    "    a.append(int(float(line.strip())))\n",
    "f_a.close()\n",
    "\n",
    "lines = f_p.readlines()\n",
    "for line in lines:\n",
    "    p.append(int(float(line.strip())))\n",
    "f_p.close()"
   ]
  },
  {
   "cell_type": "code",
   "execution_count": 8,
   "metadata": {},
   "outputs": [
    {
     "name": "stdout",
     "output_type": "stream",
     "text": [
      "answer lines:2000\n",
      "predict lines:2000\n"
     ]
    }
   ],
   "source": [
    "print(\"answer lines:%d\" % (len(a)))\n",
    "print(\"predict lines:%d\" % (len(p)))"
   ]
  },
  {
   "cell_type": "code",
   "execution_count": 9,
   "metadata": {},
   "outputs": [
    {
     "name": "stdout",
     "output_type": "stream",
     "text": [
      "accuracy:0.681500\n"
     ]
    }
   ],
   "source": [
    "errline = 0\n",
    "for i in range(len(a)):\n",
    "    if a[i] != p[i]:\n",
    "        errline += 1\n",
    "\n",
    "accuracy = (len(a)-errline)/len(a)\n",
    "print(\"accuracy:%f\" %(accuracy))"
   ]
  },
  {
   "cell_type": "markdown",
   "metadata": {},
   "source": [
    "## train max_iters=300, rate=0.01"
   ]
  },
  {
   "cell_type": "code",
   "execution_count": 10,
   "metadata": {},
   "outputs": [
    {
     "name": "stdout",
     "output_type": "stream",
     "text": [
      "Iters:0 error:5051.0\n",
      "2020-03-18 20:37:50,f\n",
      "CPU times: user 8.97 s, sys: 247 ms, total: 9.21 s\n",
      "Wall time: 6.31 s\n"
     ]
    }
   ],
   "source": [
    "%%time\n",
    "lr.train_gd(max_iters=300, rate=0.01, error_i=300)"
   ]
  },
  {
   "cell_type": "code",
   "execution_count": 11,
   "metadata": {},
   "outputs": [
    {
     "name": "stdout",
     "output_type": "stream",
     "text": [
      "[1 1 1 ... 1 1 1]\n"
     ]
    }
   ],
   "source": [
    "lr.predict()"
   ]
  },
  {
   "cell_type": "code",
   "execution_count": 12,
   "metadata": {},
   "outputs": [],
   "source": [
    "#     if debug:\n",
    "answer_file =\"../projects/student/answer.txt\"\n",
    "f_a = open(answer_file, 'r')\n",
    "f_p = open(predict_file, 'r')\n",
    "a = []\n",
    "p = []\n",
    "lines = f_a.readlines()\n",
    "for line in lines:\n",
    "    a.append(int(float(line.strip())))\n",
    "f_a.close()\n",
    "\n",
    "lines = f_p.readlines()\n",
    "for line in lines:\n",
    "    p.append(int(float(line.strip())))\n",
    "f_p.close()"
   ]
  },
  {
   "cell_type": "code",
   "execution_count": 13,
   "metadata": {},
   "outputs": [
    {
     "name": "stdout",
     "output_type": "stream",
     "text": [
      "answer lines:2000\n",
      "predict lines:2000\n"
     ]
    }
   ],
   "source": [
    "print(\"answer lines:%d\" % (len(a)))\n",
    "print(\"predict lines:%d\" % (len(p)))"
   ]
  },
  {
   "cell_type": "code",
   "execution_count": 14,
   "metadata": {},
   "outputs": [
    {
     "name": "stdout",
     "output_type": "stream",
     "text": [
      "accuracy:0.313000\n"
     ]
    }
   ],
   "source": [
    "errline = 0\n",
    "for i in range(len(a)):\n",
    "    if a[i] != p[i]:\n",
    "        errline += 1\n",
    "\n",
    "accuracy = (len(a)-errline)/len(a)\n",
    "print(\"accuracy:%f\" %(accuracy))"
   ]
  },
  {
   "cell_type": "markdown",
   "metadata": {},
   "source": [
    "## train max_iters=3000, rate=0.01"
   ]
  },
  {
   "cell_type": "code",
   "execution_count": 18,
   "metadata": {
    "collapsed": true,
    "jupyter": {
     "outputs_hidden": true
    }
   },
   "outputs": [
    {
     "name": "stdout",
     "output_type": "stream",
     "text": [
      "Iters:0 error:5051.0\n",
      "2020-03-18 12:08:38,f\n",
      "Iters:300 error:5050.999999949141\n",
      "2020-03-18 12:08:41,f\n",
      "Iters:600 error:1674.7238493279285\n",
      "2020-03-18 12:08:44,f\n",
      "Iters:900 error:1602.9710239762214\n",
      "2020-03-18 12:08:47,f\n",
      "Iters:1200 error:1542.4010528668537\n",
      "2020-03-18 12:08:50,f\n",
      "Iters:1500 error:1491.02371399723\n",
      "2020-03-18 12:08:53,f\n",
      "Iters:1800 error:1447.1673980905393\n",
      "2020-03-18 12:08:56,f\n",
      "Iters:2100 error:1409.4679135096148\n",
      "2020-03-18 12:08:59,f\n",
      "Iters:2400 error:1376.82774951144\n",
      "2020-03-18 12:09:02,f\n",
      "Iters:2700 error:1348.3687038066391\n",
      "2020-03-18 12:09:05,f\n",
      "CPU times: user 1min 4s, sys: 609 ms, total: 1min 4s\n",
      "Wall time: 34.4 s\n"
     ]
    }
   ],
   "source": [
    "%%time\n",
    "lr.train_gd(max_iters=3000, rate=0.01, error_i=300)"
   ]
  },
  {
   "cell_type": "code",
   "execution_count": 19,
   "metadata": {},
   "outputs": [
    {
     "name": "stdout",
     "output_type": "stream",
     "text": [
      "[0 1 0 ... 0 0 0]\n"
     ]
    }
   ],
   "source": [
    "lr.predict()"
   ]
  },
  {
   "cell_type": "code",
   "execution_count": 20,
   "metadata": {},
   "outputs": [],
   "source": [
    "#     if debug:\n",
    "answer_file =\"../projects/student/answer.txt\"\n",
    "f_a = open(answer_file, 'r')\n",
    "f_p = open(predict_file, 'r')\n",
    "a = []\n",
    "p = []\n",
    "lines = f_a.readlines()\n",
    "for line in lines:\n",
    "    a.append(int(float(line.strip())))\n",
    "f_a.close()\n",
    "\n",
    "lines = f_p.readlines()\n",
    "for line in lines:\n",
    "    p.append(int(float(line.strip())))\n",
    "f_p.close()"
   ]
  },
  {
   "cell_type": "code",
   "execution_count": 21,
   "metadata": {},
   "outputs": [
    {
     "name": "stdout",
     "output_type": "stream",
     "text": [
      "answer lines:2000\n",
      "predict lines:2000\n"
     ]
    }
   ],
   "source": [
    "print(\"answer lines:%d\" % (len(a)))\n",
    "print(\"predict lines:%d\" % (len(p)))"
   ]
  },
  {
   "cell_type": "code",
   "execution_count": 22,
   "metadata": {},
   "outputs": [
    {
     "name": "stdout",
     "output_type": "stream",
     "text": [
      "accuracy:0.813500\n"
     ]
    }
   ],
   "source": [
    "errline = 0\n",
    "for i in range(len(a)):\n",
    "    if a[i] != p[i]:\n",
    "        errline += 1\n",
    "\n",
    "accuracy = (len(a)-errline)/len(a)\n",
    "print(\"accuracy:%f\" %(accuracy))"
   ]
  }
 ],
 "metadata": {
  "kernelspec": {
   "display_name": "kpkn",
   "language": "python",
   "name": "kpkn"
  },
  "language_info": {
   "codemirror_mode": {
    "name": "ipython",
    "version": 3
   },
   "file_extension": ".py",
   "mimetype": "text/x-python",
   "name": "python",
   "nbconvert_exporter": "python",
   "pygments_lexer": "ipython3",
   "version": "3.7.0"
  }
 },
 "nbformat": 4,
 "nbformat_minor": 4
}
