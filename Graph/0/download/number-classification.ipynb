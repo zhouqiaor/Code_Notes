{
 "cells": [
  {
   "cell_type": "code",
   "execution_count": 1,
   "metadata": {
    "_cell_guid": "b1076dfc-b9ad-4769-8c92-a6c4dae69d19",
    "_uuid": "8f2839f25d086af736a60e9eeb907d3b93b6e0e5"
   },
   "outputs": [],
   "source": [
    "import numpy as np \n",
    "import matplotlib.pyplot as plt\n",
    "from sklearn.datasets import load_digits"
   ]
  },
  {
   "cell_type": "code",
   "execution_count": 2,
   "metadata": {
    "_cell_guid": "79c7e3d0-c299-4dcb-8224-4455121ee9b0",
    "_uuid": "d629ff2d2480ee46fbb7e2d37f6b5fab8052498a"
   },
   "outputs": [
    {
     "name": "stdout",
     "output_type": "stream",
     "text": [
      "Image Data Shape (1797, 64)\n",
      "Label Data Shape (1797,)\n"
     ]
    }
   ],
   "source": [
    "#Loading dataset\n",
    "digits = load_digits()\n",
    "\n",
    "#Prints data shape\n",
    "print(\"Image Data Shape\" , digits.data.shape)\n",
    "print(\"Label Data Shape\", digits.target.shape)"
   ]
  },
  {
   "cell_type": "code",
   "execution_count": 3,
   "metadata": {},
   "outputs": [
    {
     "data": {
      "image/png": "[encoded data removed]",
      "text/plain": [
       "<Figure size 1080x288 with 10 Axes>"
      ]
     },
     "metadata": {
      "needs_background": "light"
     },
     "output_type": "display_data"
    }
   ],
   "source": [
    "plt.figure(figsize=(15,4))\n",
    "#Prints first 5 data values\n",
    "for index, (image, label) in enumerate(zip(digits.data[0:10], digits.target[0:10])):\n",
    "    plt.subplot(1, 10, index + 1)\n",
    "    plt.imshow(np.reshape(image, (8,8)), cmap=plt.cm.gray)\n",
    "    plt.title('Training: %i\\n' % label, fontsize = 8)"
   ]
  },
  {
   "cell_type": "code",
   "execution_count": 4,
   "metadata": {},
   "outputs": [],
   "source": [
    "#Splits training and test data (25% and 75%)\n",
    "from sklearn.model_selection import train_test_split\n",
    "x_train, x_test, y_train, y_test = train_test_split(digits.data, digits.target, test_size=0.25, random_state=0)"
   ]
  },
  {
   "cell_type": "markdown",
   "metadata": {},
   "source": [
    "**Logistic Regression**"
   ]
  },
  {
   "cell_type": "code",
   "execution_count": 5,
   "metadata": {},
   "outputs": [],
   "source": [
    "from sklearn.linear_model import LogisticRegression\n",
    "import time\n",
    "score_max_i_100 = []\n",
    "times_max_i_100 = []\n",
    "score_conv = []\n",
    "times_conv = []\n",
    "solvers = [\"Newton-cg-> \",\"L-BFGS-> \", \"SAG-> \",\"SAGA-> \"]"
   ]
  },
  {
   "cell_type": "markdown",
   "metadata": {},
   "source": [
    "Maximum Iterations = 100"
   ]
  },
  {
   "cell_type": "code",
   "execution_count": 6,
   "metadata": {},
   "outputs": [],
   "source": [
    "#Trains model using Logistic Regression model\n",
    "#Solver \"newton-cg\"\n",
    "logisticRegr = LogisticRegression(random_state=0, solver='newton-cg',multi_class='multinomial')\n",
    "start_time = time.time()\n",
    "logisticRegr.fit(x_train, y_train)\n",
    "times_max_i_100.append(time.time()-start_time)"
   ]
  },
  {
   "cell_type": "code",
   "execution_count": 7,
   "metadata": {},
   "outputs": [
    {
     "name": "stdout",
     "output_type": "stream",
     "text": [
      "0.9533333333333334\n"
     ]
    }
   ],
   "source": [
    "#Calculating model accuracy\n",
    "score = logisticRegr.score(x_test, y_test)\n",
    "score_max_i_100.append(score)\n",
    "print(score)"
   ]
  },
  {
   "cell_type": "code",
   "execution_count": 8,
   "metadata": {},
   "outputs": [
    {
     "name": "stderr",
     "output_type": "stream",
     "text": [
      "/opt/conda/lib/python3.6/site-packages/sklearn/linear_model/logistic.py:947: ConvergenceWarning: lbfgs failed to converge. Increase the number of iterations.\n",
      "  \"of iterations.\", ConvergenceWarning)\n"
     ]
    }
   ],
   "source": [
    "#Trains model using Logistic Regression model\n",
    "#Solver \"lbfgs\"\n",
    "logisticRegr = LogisticRegression(random_state=0, solver='lbfgs',multi_class='multinomial')\n",
    "start_time = time.time()\n",
    "logisticRegr.fit(x_train, y_train)\n",
    "times_max_i_100.append(time.time()-start_time)"
   ]
  },
  {
   "cell_type": "code",
   "execution_count": 9,
   "metadata": {},
   "outputs": [
    {
     "name": "stdout",
     "output_type": "stream",
     "text": [
      "0.9511111111111111\n"
     ]
    }
   ],
   "source": [
    "#Calculating model accuracy\n",
    "score = logisticRegr.score(x_test, y_test)\n",
    "score_max_i_100.append(score)\n",
    "print(score)"
   ]
  },
  {
   "cell_type": "code",
   "execution_count": 10,
   "metadata": {},
   "outputs": [
    {
     "name": "stderr",
     "output_type": "stream",
     "text": [
      "/opt/conda/lib/python3.6/site-packages/sklearn/linear_model/sag.py:337: ConvergenceWarning: The max_iter was reached which means the coef_ did not converge\n",
      "  \"the coef_ did not converge\", ConvergenceWarning)\n"
     ]
    }
   ],
   "source": [
    "#Trains model using Logistic Regression model\n",
    "#Solver \"sag\"\n",
    "logisticRegr = LogisticRegression(random_state=0, solver='sag',multi_class='multinomial')\n",
    "start_time = time.time()\n",
    "logisticRegr.fit(x_train, y_train)\n",
    "times_max_i_100.append(time.time()-start_time)"
   ]
  },
  {
   "cell_type": "code",
   "execution_count": 11,
   "metadata": {},
   "outputs": [
    {
     "name": "stdout",
     "output_type": "stream",
     "text": [
      "0.9622222222222222\n"
     ]
    }
   ],
   "source": [
    "#Calculating model accuracy\n",
    "score = logisticRegr.score(x_test, y_test)\n",
    "score_max_i_100.append(score)\n",
    "print(score)"
   ]
  },
  {
   "cell_type": "code",
   "execution_count": 12,
   "metadata": {},
   "outputs": [
    {
     "name": "stderr",
     "output_type": "stream",
     "text": [
      "/opt/conda/lib/python3.6/site-packages/sklearn/linear_model/sag.py:337: ConvergenceWarning: The max_iter was reached which means the coef_ did not converge\n",
      "  \"the coef_ did not converge\", ConvergenceWarning)\n"
     ]
    }
   ],
   "source": [
    "#Trains model using Logistic Regression model\n",
    "#Solver \"saga\"\n",
    "logisticRegr = LogisticRegression(random_state=0, solver='saga',multi_class='multinomial')\n",
    "start_time = time.time()\n",
    "logisticRegr.fit(x_train, y_train)\n",
    "times_max_i_100.append(time.time()-start_time)"
   ]
  },
  {
   "cell_type": "code",
   "execution_count": 13,
   "metadata": {},
   "outputs": [
    {
     "name": "stdout",
     "output_type": "stream",
     "text": [
      "0.9622222222222222\n"
     ]
    }
   ],
   "source": [
    "#Calculating model accuracy\n",
    "score = logisticRegr.score(x_test, y_test)\n",
    "score_max_i_100.append(score)\n",
    "print(score)"
   ]
  },
  {
   "cell_type": "code",
   "execution_count": 14,
   "metadata": {},
   "outputs": [
    {
     "name": "stdout",
     "output_type": "stream",
     "text": [
      "Newton-cg->  Accuracy: 95.33  Time:  1.0667\n",
      "L-BFGS->  Accuracy: 95.11  Time:  0.1172\n",
      "SAG->  Accuracy: 96.22  Time:  0.4797\n",
      "SAGA->  Accuracy: 96.22  Time:  0.5739\n"
     ]
    }
   ],
   "source": [
    "for i in range(4):\n",
    "    print(solvers[i],\"Accuracy:\",round(100*score_max_i_100[i],2),\" Time: \",round(times_max_i_100[i],4))"
   ]
  },
  {
   "cell_type": "markdown",
   "metadata": {},
   "source": [
    "**Minimum Iterations for Convergeance**"
   ]
  },
  {
   "cell_type": "code",
   "execution_count": 15,
   "metadata": {},
   "outputs": [],
   "source": [
    "#Trains model using Logistic Regression model\n",
    "#Solver \"newton-cg\"\n",
    "logisticRegr = LogisticRegression(random_state=0, max_iter=37, solver='newton-cg',multi_class='multinomial')\n",
    "start_time = time.time()\n",
    "logisticRegr.fit(x_train, y_train)\n",
    "times_conv.append(time.time()-start_time)"
   ]
  },
  {
   "cell_type": "code",
   "execution_count": 16,
   "metadata": {},
   "outputs": [
    {
     "name": "stdout",
     "output_type": "stream",
     "text": [
      "0.9533333333333334\n"
     ]
    }
   ],
   "source": [
    "#Calculating model accuracy\n",
    "score = logisticRegr.score(x_test, y_test)\n",
    "score_conv.append(score)\n",
    "print(score)"
   ]
  },
  {
   "cell_type": "code",
   "execution_count": 17,
   "metadata": {},
   "outputs": [],
   "source": [
    "#Trains model using Logistic Regression model\n",
    "#Solver \"lbfgs\"\n",
    "logisticRegr = LogisticRegression(random_state=0, max_iter=3045, solver='lbfgs',multi_class='multinomial')\n",
    "start_time = time.time()\n",
    "logisticRegr.fit(x_train, y_train)\n",
    "times_conv.append(time.time()-start_time)"
   ]
  },
  {
   "cell_type": "code",
   "execution_count": 18,
   "metadata": {},
   "outputs": [
    {
     "name": "stdout",
     "output_type": "stream",
     "text": [
      "0.9533333333333334\n"
     ]
    }
   ],
   "source": [
    "#Calculating model accuracy\n",
    "score = logisticRegr.score(x_test, y_test)\n",
    "score_conv.append(score)\n",
    "print(score)"
   ]
  },
  {
   "cell_type": "code",
   "execution_count": 19,
   "metadata": {},
   "outputs": [],
   "source": [
    "#Trains model using Logistic Regression model\n",
    "#Solver \"sag\"\n",
    "logisticRegr = LogisticRegression(random_state=0, max_iter=689, solver='sag',multi_class='multinomial')\n",
    "start_time = time.time()\n",
    "logisticRegr.fit(x_train, y_train)\n",
    "times_conv.append(time.time()-start_time)"
   ]
  },
  {
   "cell_type": "code",
   "execution_count": 20,
   "metadata": {},
   "outputs": [
    {
     "name": "stdout",
     "output_type": "stream",
     "text": [
      "0.9555555555555556\n"
     ]
    }
   ],
   "source": [
    "#Calculating model accuracy\n",
    "score = logisticRegr.score(x_test, y_test)\n",
    "score_conv.append(score)\n",
    "print(score)"
   ]
  },
  {
   "cell_type": "code",
   "execution_count": 21,
   "metadata": {},
   "outputs": [],
   "source": [
    "#Trains model using Logistic Regression model\n",
    "#Solver \"saga\"\n",
    "logisticRegr = LogisticRegression(random_state=0, max_iter=1009, solver='saga',multi_class='multinomial')\n",
    "start_time = time.time()\n",
    "logisticRegr.fit(x_train, y_train)\n",
    "times_conv.append(time.time()-start_time)"
   ]
  },
  {
   "cell_type": "code",
   "execution_count": 22,
   "metadata": {},
   "outputs": [
    {
     "name": "stdout",
     "output_type": "stream",
     "text": [
      "0.9555555555555556\n"
     ]
    }
   ],
   "source": [
    "#Calculating model accuracy\n",
    "score = logisticRegr.score(x_test, y_test)\n",
    "score_conv.append(score)\n",
    "print(score)"
   ]
  },
  {
   "cell_type": "code",
   "execution_count": 23,
   "metadata": {},
   "outputs": [
    {
     "name": "stdout",
     "output_type": "stream",
     "text": [
      "Newton-cg->  Accuracy: 95.33  Time:  1.0855\n",
      "L-BFGS->  Accuracy: 95.33  Time:  3.2599\n",
      "SAG->  Accuracy: 95.56  Time:  3.2139\n",
      "SAGA->  Accuracy: 95.56  Time:  5.6262\n"
     ]
    }
   ],
   "source": [
    "for i in range(4):\n",
    "    print(solvers[i],\"Accuracy:\",round(100*score_conv[i],2),\" Time: \",round(times_conv[i],4))"
   ]
  },
  {
   "cell_type": "markdown",
   "metadata": {},
   "source": [
    "**Using Bigger Training Set**"
   ]
  },
  {
   "cell_type": "code",
   "execution_count": 24,
   "metadata": {},
   "outputs": [],
   "source": [
    "#Splitting dataset 5% for test and 95% for training\n",
    "x_train, x_test, y_train, y_test = train_test_split(digits.data, digits.target, test_size=0.05, random_state=0)\n",
    "\n",
    "score_sag = []\n",
    "score_saga = []"
   ]
  },
  {
   "cell_type": "code",
   "execution_count": 25,
   "metadata": {},
   "outputs": [
    {
     "name": "stdout",
     "output_type": "stream",
     "text": [
      "0.9666666666666667\n"
     ]
    },
    {
     "name": "stderr",
     "output_type": "stream",
     "text": [
      "/opt/conda/lib/python3.6/site-packages/sklearn/linear_model/sag.py:337: ConvergenceWarning: The max_iter was reached which means the coef_ did not converge\n",
      "  \"the coef_ did not converge\", ConvergenceWarning)\n"
     ]
    }
   ],
   "source": [
    "#Trains model using Logistic Regression model\n",
    "#Solver \"sag\"\n",
    "logisticRegr = LogisticRegression(random_state=0, solver='sag',multi_class='multinomial')\n",
    "logisticRegr.fit(x_train, y_train)\n",
    "\n",
    "#Calculating model accuracy\n",
    "score = logisticRegr.score(x_test, y_test)\n",
    "score_sag.append(score)\n",
    "print(score)"
   ]
  },
  {
   "cell_type": "code",
   "execution_count": 26,
   "metadata": {},
   "outputs": [
    {
     "name": "stdout",
     "output_type": "stream",
     "text": [
      "0.9888888888888889\n"
     ]
    }
   ],
   "source": [
    "#Trains model using Logistic Regression model\n",
    "#Solver \"sag\"\n",
    "logisticRegr = LogisticRegression(random_state=0, max_iter = 930, solver='sag',multi_class='multinomial')\n",
    "logisticRegr.fit(x_train, y_train)\n",
    "\n",
    "#Calculating model accuracy\n",
    "score = logisticRegr.score(x_test, y_test)\n",
    "score_sag.append(score)\n",
    "print(score)"
   ]
  },
  {
   "cell_type": "code",
   "execution_count": 27,
   "metadata": {},
   "outputs": [
    {
     "name": "stdout",
     "output_type": "stream",
     "text": [
      "0.9777777777777777\n"
     ]
    },
    {
     "name": "stderr",
     "output_type": "stream",
     "text": [
      "/opt/conda/lib/python3.6/site-packages/sklearn/linear_model/sag.py:337: ConvergenceWarning: The max_iter was reached which means the coef_ did not converge\n",
      "  \"the coef_ did not converge\", ConvergenceWarning)\n"
     ]
    }
   ],
   "source": [
    "#Trains model using Logistic Regression model\n",
    "#Solver \"saga\"\n",
    "logisticRegr = LogisticRegression(random_state=0, solver='saga',multi_class='multinomial')\n",
    "logisticRegr.fit(x_train, y_train)\n",
    "\n",
    "#Calculating model accuracy\n",
    "score = logisticRegr.score(x_test, y_test)\n",
    "score_saga.append(score)\n",
    "print(score)"
   ]
  },
  {
   "cell_type": "code",
   "execution_count": 28,
   "metadata": {},
   "outputs": [
    {
     "name": "stdout",
     "output_type": "stream",
     "text": [
      "0.9777777777777777\n"
     ]
    }
   ],
   "source": [
    "#Trains model using Logistic Regression model\n",
    "#Solver \"saga\"\n",
    "logisticRegr = LogisticRegression(random_state=0, max_iter = 1173, solver='saga',multi_class='multinomial')\n",
    "logisticRegr.fit(x_train, y_train)\n",
    "\n",
    "#Calculating model accuracy\n",
    "score = logisticRegr.score(x_test, y_test)\n",
    "score_saga.append(score)\n",
    "print(score)"
   ]
  },
  {
   "cell_type": "code",
   "execution_count": 29,
   "metadata": {},
   "outputs": [
    {
     "name": "stdout",
     "output_type": "stream",
     "text": [
      "SAG:\n",
      "Accuracy(without convergeance): 96.67\n",
      "Accuracy(with convergeance): 98.89\n",
      "SAGA:\n",
      "Accuracy(without convergeance): 97.78\n",
      "Accuracy(with convergeance): 97.78\n"
     ]
    }
   ],
   "source": [
    "print(\"SAG:\")\n",
    "print(\"Accuracy(without convergeance):\",round(100*score_sag[0],2))\n",
    "print(\"Accuracy(with convergeance):\",round(100*score_sag[1],2))\n",
    "print(\"SAGA:\")\n",
    "print(\"Accuracy(without convergeance):\",round(100*score_saga[0],2))\n",
    "print(\"Accuracy(with convergeance):\",round(100*score_saga[1],2))"
   ]
  }
 ],
 "metadata": {
  "kernelspec": {
   "display_name": "Python 3",
   "language": "python",
   "name": "python3"
  },
  "language_info": {
   "codemirror_mode": {
    "name": "ipython",
    "version": 3
   },
   "file_extension": ".py",
   "mimetype": "text/x-python",
   "name": "python",
   "nbconvert_exporter": "python",
   "pygments_lexer": "ipython3",
   "version": "3.7.3"
  }
 },
 "nbformat": 4,
 "nbformat_minor": 4
}
