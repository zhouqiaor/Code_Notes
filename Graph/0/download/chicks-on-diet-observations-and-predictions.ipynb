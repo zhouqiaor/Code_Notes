{
 "cells": [
  {
   "cell_type": "markdown",
   "metadata": {},
   "source": [
    "# Observation and predictions of chicken weight on different diets\n",
    "\n",
    "* observe the dataset  \n",
    "* predict chick's weight using some Regressor \n",
    "\n",
    "# Observation of chicks dataset 🐣\n",
    "\n",
    "\n",
    "## 1. Import modules"
   ]
  },
  {
   "cell_type": "code",
   "execution_count": 1,
   "metadata": {
    "_cell_guid": "b1076dfc-b9ad-4769-8c92-a6c4dae69d19",
    "_uuid": "8f2839f25d086af736a60e9eeb907d3b93b6e0e5"
   },
   "outputs": [],
   "source": [
    "import numpy as np     # linear algebra\n",
    "import pandas as pd    # data processing, CSV file I/O (e.g. pd.read_csv)\n",
    "import matplotlib.pyplot as plt    # plotting data\n",
    "import seaborn as sns \n",
    "sns.set(color_codes=True)"
   ]
  },
  {
   "cell_type": "markdown",
   "metadata": {},
   "source": [
    "## 2. Check the dataset\n",
    "\n",
    "> The body weights of chicks were measured at birth and every second day thereafter until day 20. They were also measured on day 21. There were four groups of chicks on different protein diets."
   ]
  },
  {
   "cell_type": "code",
   "execution_count": 2,
   "metadata": {
    "_cell_guid": "79c7e3d0-c299-4dcb-8224-4455121ee9b0",
    "_uuid": "d629ff2d2480ee46fbb7e2d37f6b5fab8052498a"
   },
   "outputs": [
    {
     "data": {
      "text/html": [
       "<div>\n",
       "<style scoped>\n",
       "    .dataframe tbody tr th:only-of-type {\n",
       "        vertical-align: middle;\n",
       "    }\n",
       "\n",
       "    .dataframe tbody tr th {\n",
       "        vertical-align: top;\n",
       "    }\n",
       "\n",
       "    .dataframe thead th {\n",
       "        text-align: right;\n",
       "    }\n",
       "</style>\n",
       "<table border=\"1\" class=\"dataframe\">\n",
       "  <thead>\n",
       "    <tr style=\"text-align: right;\">\n",
       "      <th></th>\n",
       "      <th>weight</th>\n",
       "      <th>Time</th>\n",
       "      <th>Chick</th>\n",
       "      <th>Diet</th>\n",
       "    </tr>\n",
       "  </thead>\n",
       "  <tbody>\n",
       "    <tr>\n",
       "      <td>483</td>\n",
       "      <td>281</td>\n",
       "      <td>21</td>\n",
       "      <td>42</td>\n",
       "      <td>4</td>\n",
       "    </tr>\n",
       "    <tr>\n",
       "      <td>179</td>\n",
       "      <td>57</td>\n",
       "      <td>8</td>\n",
       "      <td>16</td>\n",
       "      <td>1</td>\n",
       "    </tr>\n",
       "    <tr>\n",
       "      <td>541</td>\n",
       "      <td>205</td>\n",
       "      <td>21</td>\n",
       "      <td>47</td>\n",
       "      <td>4</td>\n",
       "    </tr>\n",
       "    <tr>\n",
       "      <td>43</td>\n",
       "      <td>108</td>\n",
       "      <td>14</td>\n",
       "      <td>4</td>\n",
       "      <td>1</td>\n",
       "    </tr>\n",
       "    <tr>\n",
       "      <td>337</td>\n",
       "      <td>151</td>\n",
       "      <td>18</td>\n",
       "      <td>30</td>\n",
       "      <td>2</td>\n",
       "    </tr>\n",
       "    <tr>\n",
       "      <td>108</td>\n",
       "      <td>44</td>\n",
       "      <td>2</td>\n",
       "      <td>10</td>\n",
       "      <td>1</td>\n",
       "    </tr>\n",
       "    <tr>\n",
       "      <td>121</td>\n",
       "      <td>63</td>\n",
       "      <td>4</td>\n",
       "      <td>11</td>\n",
       "      <td>1</td>\n",
       "    </tr>\n",
       "    <tr>\n",
       "      <td>464</td>\n",
       "      <td>103</td>\n",
       "      <td>8</td>\n",
       "      <td>41</td>\n",
       "      <td>4</td>\n",
       "    </tr>\n",
       "    <tr>\n",
       "      <td>489</td>\n",
       "      <td>157</td>\n",
       "      <td>10</td>\n",
       "      <td>43</td>\n",
       "      <td>4</td>\n",
       "    </tr>\n",
       "    <tr>\n",
       "      <td>534</td>\n",
       "      <td>100</td>\n",
       "      <td>8</td>\n",
       "      <td>47</td>\n",
       "      <td>4</td>\n",
       "    </tr>\n",
       "  </tbody>\n",
       "</table>\n",
       "</div>"
      ],
      "text/plain": [
       "     weight  Time  Chick  Diet\n",
       "483     281    21     42     4\n",
       "179      57     8     16     1\n",
       "541     205    21     47     4\n",
       "43      108    14      4     1\n",
       "337     151    18     30     2\n",
       "108      44     2     10     1\n",
       "121      63     4     11     1\n",
       "464     103     8     41     4\n",
       "489     157    10     43     4\n",
       "534     100     8     47     4"
      ]
     },
     "execution_count": 2,
     "metadata": {},
     "output_type": "execute_result"
    }
   ],
   "source": [
    "chicks = pd.read_csv('/kaggle/input/weight-vs-age-of-chicks-on-different-diets/ChickWeight.csv')\n",
    "chicks = chicks.drop([chicks.columns[0]], axis='columns')\n",
    "chicks.sample(10)"
   ]
  },
  {
   "cell_type": "code",
   "execution_count": 3,
   "metadata": {
    "_kg_hide-input": true
   },
   "outputs": [
    {
     "data": {
      "text/html": [
       "<div>\n",
       "<style scoped>\n",
       "    .dataframe tbody tr th:only-of-type {\n",
       "        vertical-align: middle;\n",
       "    }\n",
       "\n",
       "    .dataframe tbody tr th {\n",
       "        vertical-align: top;\n",
       "    }\n",
       "\n",
       "    .dataframe thead th {\n",
       "        text-align: right;\n",
       "    }\n",
       "</style>\n",
       "<table border=\"1\" class=\"dataframe\">\n",
       "  <thead>\n",
       "    <tr style=\"text-align: right;\">\n",
       "      <th></th>\n",
       "      <th>weight</th>\n",
       "      <th>Time</th>\n",
       "      <th>Chick</th>\n",
       "      <th>Diet</th>\n",
       "    </tr>\n",
       "  </thead>\n",
       "  <tbody>\n",
       "    <tr>\n",
       "      <td>count</td>\n",
       "      <td>578.000000</td>\n",
       "      <td>578.000000</td>\n",
       "      <td>578.000000</td>\n",
       "      <td>578.000000</td>\n",
       "    </tr>\n",
       "    <tr>\n",
       "      <td>mean</td>\n",
       "      <td>121.818339</td>\n",
       "      <td>10.717993</td>\n",
       "      <td>25.750865</td>\n",
       "      <td>2.235294</td>\n",
       "    </tr>\n",
       "    <tr>\n",
       "      <td>std</td>\n",
       "      <td>71.071960</td>\n",
       "      <td>6.758400</td>\n",
       "      <td>14.568795</td>\n",
       "      <td>1.162678</td>\n",
       "    </tr>\n",
       "    <tr>\n",
       "      <td>min</td>\n",
       "      <td>35.000000</td>\n",
       "      <td>0.000000</td>\n",
       "      <td>1.000000</td>\n",
       "      <td>1.000000</td>\n",
       "    </tr>\n",
       "    <tr>\n",
       "      <td>25%</td>\n",
       "      <td>63.000000</td>\n",
       "      <td>4.000000</td>\n",
       "      <td>13.000000</td>\n",
       "      <td>1.000000</td>\n",
       "    </tr>\n",
       "    <tr>\n",
       "      <td>50%</td>\n",
       "      <td>103.000000</td>\n",
       "      <td>10.000000</td>\n",
       "      <td>26.000000</td>\n",
       "      <td>2.000000</td>\n",
       "    </tr>\n",
       "    <tr>\n",
       "      <td>75%</td>\n",
       "      <td>163.750000</td>\n",
       "      <td>16.000000</td>\n",
       "      <td>38.000000</td>\n",
       "      <td>3.000000</td>\n",
       "    </tr>\n",
       "    <tr>\n",
       "      <td>max</td>\n",
       "      <td>373.000000</td>\n",
       "      <td>21.000000</td>\n",
       "      <td>50.000000</td>\n",
       "      <td>4.000000</td>\n",
       "    </tr>\n",
       "  </tbody>\n",
       "</table>\n",
       "</div>"
      ],
      "text/plain": [
       "           weight        Time       Chick        Diet\n",
       "count  578.000000  578.000000  578.000000  578.000000\n",
       "mean   121.818339   10.717993   25.750865    2.235294\n",
       "std     71.071960    6.758400   14.568795    1.162678\n",
       "min     35.000000    0.000000    1.000000    1.000000\n",
       "25%     63.000000    4.000000   13.000000    1.000000\n",
       "50%    103.000000   10.000000   26.000000    2.000000\n",
       "75%    163.750000   16.000000   38.000000    3.000000\n",
       "max    373.000000   21.000000   50.000000    4.000000"
      ]
     },
     "execution_count": 3,
     "metadata": {},
     "output_type": "execute_result"
    }
   ],
   "source": [
    "chicks.describe()"
   ]
  },
  {
   "cell_type": "markdown",
   "metadata": {},
   "source": [
    "> The dataframe has exactly 578 rows and 4 int columns from an experiment on the effect of diet on early growth of chicks.\n",
    "\n",
    "## 3. Create count plot with number of chicks on different diets  \n",
    "**Diet 1** had more 'participants' than diets 2, 3 or 4 (more than 100 chicks!)."
   ]
  },
  {
   "cell_type": "code",
   "execution_count": 4,
   "metadata": {},
   "outputs": [
    {
     "data": {
      "image/png": "[encoded data removed]",
      "text/plain": [
       "<Figure size 432x288 with 1 Axes>"
      ]
     },
     "metadata": {
      "needs_background": "light"
     },
     "output_type": "display_data"
    }
   ],
   "source": [
    "ax = sns.countplot(x=\"Diet\", data=chicks)\n",
    "for p in ax.patches:\n",
    "    ax.annotate('{}'.format(p.get_height()), (p.get_x()+0.15, p.get_height()+1))"
   ]
  },
  {
   "cell_type": "markdown",
   "metadata": {},
   "source": [
    "## 4. Create a scatter plot corresponding Time (days) and Weight (gm) of chicks  \n",
    "* Colored markers show diet type.  \n",
    "* 21 days of experiment, 12 days of measures"
   ]
  },
  {
   "cell_type": "code",
   "execution_count": 5,
   "metadata": {},
   "outputs": [
    {
     "data": {
      "text/plain": [
       "<matplotlib.axes._subplots.AxesSubplot at 0x7f4d170cf828>"
      ]
     },
     "execution_count": 5,
     "metadata": {},
     "output_type": "execute_result"
    },
    {
     "data": {
      "image/png": "[encoded data removed]",
      "text/plain": [
       "<Figure size 432x288 with 1 Axes>"
      ]
     },
     "metadata": {
      "needs_background": "light"
     },
     "output_type": "display_data"
    }
   ],
   "source": [
    "sns.scatterplot(x='Time',y='weight', hue=\"Diet\", size='Diet', data=chicks)"
   ]
  },
  {
   "cell_type": "markdown",
   "metadata": {},
   "source": [
    "🐔 If the dataframe is correct we should have 12 weights for every chicken.\n",
    "\n",
    "# Pivoting chicks dataset\n",
    "\n",
    "## 5. Pivoting data  \n",
    "Pivot the data from long to wide, where columns `Chick` and `Diet` are the indexes and the column `Time` indicates different observations (weights) for each index. The observations were taken every other day - 0, 2, 4, ..., 18, 20, and last 21 day, so we have **12 days of measures**."
   ]
  },
  {
   "cell_type": "code",
   "execution_count": 6,
   "metadata": {},
   "outputs": [
    {
     "data": {
      "text/html": [
       "<div>\n",
       "<style scoped>\n",
       "    .dataframe tbody tr th:only-of-type {\n",
       "        vertical-align: middle;\n",
       "    }\n",
       "\n",
       "    .dataframe tbody tr th {\n",
       "        vertical-align: top;\n",
       "    }\n",
       "\n",
       "    .dataframe thead th {\n",
       "        text-align: right;\n",
       "    }\n",
       "</style>\n",
       "<table border=\"1\" class=\"dataframe\">\n",
       "  <thead>\n",
       "    <tr style=\"text-align: right;\">\n",
       "      <th></th>\n",
       "      <th>Time</th>\n",
       "      <th>0</th>\n",
       "      <th>2</th>\n",
       "      <th>4</th>\n",
       "      <th>6</th>\n",
       "      <th>8</th>\n",
       "      <th>10</th>\n",
       "      <th>12</th>\n",
       "      <th>14</th>\n",
       "      <th>16</th>\n",
       "      <th>18</th>\n",
       "      <th>20</th>\n",
       "      <th>21</th>\n",
       "    </tr>\n",
       "    <tr>\n",
       "      <th>Chick</th>\n",
       "      <th>Diet</th>\n",
       "      <th></th>\n",
       "      <th></th>\n",
       "      <th></th>\n",
       "      <th></th>\n",
       "      <th></th>\n",
       "      <th></th>\n",
       "      <th></th>\n",
       "      <th></th>\n",
       "      <th></th>\n",
       "      <th></th>\n",
       "      <th></th>\n",
       "      <th></th>\n",
       "    </tr>\n",
       "  </thead>\n",
       "  <tbody>\n",
       "    <tr>\n",
       "      <td>1</td>\n",
       "      <td>1</td>\n",
       "      <td>42.0</td>\n",
       "      <td>51.0</td>\n",
       "      <td>59.0</td>\n",
       "      <td>64.0</td>\n",
       "      <td>76.0</td>\n",
       "      <td>93.0</td>\n",
       "      <td>106.0</td>\n",
       "      <td>125.0</td>\n",
       "      <td>149.0</td>\n",
       "      <td>171.0</td>\n",
       "      <td>199.0</td>\n",
       "      <td>205.0</td>\n",
       "    </tr>\n",
       "    <tr>\n",
       "      <td>2</td>\n",
       "      <td>1</td>\n",
       "      <td>40.0</td>\n",
       "      <td>49.0</td>\n",
       "      <td>58.0</td>\n",
       "      <td>72.0</td>\n",
       "      <td>84.0</td>\n",
       "      <td>103.0</td>\n",
       "      <td>122.0</td>\n",
       "      <td>138.0</td>\n",
       "      <td>162.0</td>\n",
       "      <td>187.0</td>\n",
       "      <td>209.0</td>\n",
       "      <td>215.0</td>\n",
       "    </tr>\n",
       "    <tr>\n",
       "      <td>3</td>\n",
       "      <td>1</td>\n",
       "      <td>43.0</td>\n",
       "      <td>39.0</td>\n",
       "      <td>55.0</td>\n",
       "      <td>67.0</td>\n",
       "      <td>84.0</td>\n",
       "      <td>99.0</td>\n",
       "      <td>115.0</td>\n",
       "      <td>138.0</td>\n",
       "      <td>163.0</td>\n",
       "      <td>187.0</td>\n",
       "      <td>198.0</td>\n",
       "      <td>202.0</td>\n",
       "    </tr>\n",
       "    <tr>\n",
       "      <td>4</td>\n",
       "      <td>1</td>\n",
       "      <td>42.0</td>\n",
       "      <td>49.0</td>\n",
       "      <td>56.0</td>\n",
       "      <td>67.0</td>\n",
       "      <td>74.0</td>\n",
       "      <td>87.0</td>\n",
       "      <td>102.0</td>\n",
       "      <td>108.0</td>\n",
       "      <td>136.0</td>\n",
       "      <td>154.0</td>\n",
       "      <td>160.0</td>\n",
       "      <td>157.0</td>\n",
       "    </tr>\n",
       "    <tr>\n",
       "      <td>5</td>\n",
       "      <td>1</td>\n",
       "      <td>41.0</td>\n",
       "      <td>42.0</td>\n",
       "      <td>48.0</td>\n",
       "      <td>60.0</td>\n",
       "      <td>79.0</td>\n",
       "      <td>106.0</td>\n",
       "      <td>141.0</td>\n",
       "      <td>164.0</td>\n",
       "      <td>197.0</td>\n",
       "      <td>199.0</td>\n",
       "      <td>220.0</td>\n",
       "      <td>223.0</td>\n",
       "    </tr>\n",
       "    <tr>\n",
       "      <td>6</td>\n",
       "      <td>1</td>\n",
       "      <td>41.0</td>\n",
       "      <td>49.0</td>\n",
       "      <td>59.0</td>\n",
       "      <td>74.0</td>\n",
       "      <td>97.0</td>\n",
       "      <td>124.0</td>\n",
       "      <td>141.0</td>\n",
       "      <td>148.0</td>\n",
       "      <td>155.0</td>\n",
       "      <td>160.0</td>\n",
       "      <td>160.0</td>\n",
       "      <td>157.0</td>\n",
       "    </tr>\n",
       "    <tr>\n",
       "      <td>7</td>\n",
       "      <td>1</td>\n",
       "      <td>41.0</td>\n",
       "      <td>49.0</td>\n",
       "      <td>57.0</td>\n",
       "      <td>71.0</td>\n",
       "      <td>89.0</td>\n",
       "      <td>112.0</td>\n",
       "      <td>146.0</td>\n",
       "      <td>174.0</td>\n",
       "      <td>218.0</td>\n",
       "      <td>250.0</td>\n",
       "      <td>288.0</td>\n",
       "      <td>305.0</td>\n",
       "    </tr>\n",
       "    <tr>\n",
       "      <td>8</td>\n",
       "      <td>1</td>\n",
       "      <td>42.0</td>\n",
       "      <td>50.0</td>\n",
       "      <td>61.0</td>\n",
       "      <td>71.0</td>\n",
       "      <td>84.0</td>\n",
       "      <td>93.0</td>\n",
       "      <td>110.0</td>\n",
       "      <td>116.0</td>\n",
       "      <td>126.0</td>\n",
       "      <td>134.0</td>\n",
       "      <td>125.0</td>\n",
       "      <td>NaN</td>\n",
       "    </tr>\n",
       "    <tr>\n",
       "      <td>9</td>\n",
       "      <td>1</td>\n",
       "      <td>42.0</td>\n",
       "      <td>51.0</td>\n",
       "      <td>59.0</td>\n",
       "      <td>68.0</td>\n",
       "      <td>85.0</td>\n",
       "      <td>96.0</td>\n",
       "      <td>90.0</td>\n",
       "      <td>92.0</td>\n",
       "      <td>93.0</td>\n",
       "      <td>100.0</td>\n",
       "      <td>100.0</td>\n",
       "      <td>98.0</td>\n",
       "    </tr>\n",
       "    <tr>\n",
       "      <td>10</td>\n",
       "      <td>1</td>\n",
       "      <td>41.0</td>\n",
       "      <td>44.0</td>\n",
       "      <td>52.0</td>\n",
       "      <td>63.0</td>\n",
       "      <td>74.0</td>\n",
       "      <td>81.0</td>\n",
       "      <td>89.0</td>\n",
       "      <td>96.0</td>\n",
       "      <td>101.0</td>\n",
       "      <td>112.0</td>\n",
       "      <td>120.0</td>\n",
       "      <td>124.0</td>\n",
       "    </tr>\n",
       "  </tbody>\n",
       "</table>\n",
       "</div>"
      ],
      "text/plain": [
       "Time          0     2     4     6     8      10     12     14     16     18  \\\n",
       "Chick Diet                                                                    \n",
       "1     1     42.0  51.0  59.0  64.0  76.0   93.0  106.0  125.0  149.0  171.0   \n",
       "2     1     40.0  49.0  58.0  72.0  84.0  103.0  122.0  138.0  162.0  187.0   \n",
       "3     1     43.0  39.0  55.0  67.0  84.0   99.0  115.0  138.0  163.0  187.0   \n",
       "4     1     42.0  49.0  56.0  67.0  74.0   87.0  102.0  108.0  136.0  154.0   \n",
       "5     1     41.0  42.0  48.0  60.0  79.0  106.0  141.0  164.0  197.0  199.0   \n",
       "6     1     41.0  49.0  59.0  74.0  97.0  124.0  141.0  148.0  155.0  160.0   \n",
       "7     1     41.0  49.0  57.0  71.0  89.0  112.0  146.0  174.0  218.0  250.0   \n",
       "8     1     42.0  50.0  61.0  71.0  84.0   93.0  110.0  116.0  126.0  134.0   \n",
       "9     1     42.0  51.0  59.0  68.0  85.0   96.0   90.0   92.0   93.0  100.0   \n",
       "10    1     41.0  44.0  52.0  63.0  74.0   81.0   89.0   96.0  101.0  112.0   \n",
       "\n",
       "Time           20     21  \n",
       "Chick Diet                \n",
       "1     1     199.0  205.0  \n",
       "2     1     209.0  215.0  \n",
       "3     1     198.0  202.0  \n",
       "4     1     160.0  157.0  \n",
       "5     1     220.0  223.0  \n",
       "6     1     160.0  157.0  \n",
       "7     1     288.0  305.0  \n",
       "8     1     125.0    NaN  \n",
       "9     1     100.0   98.0  \n",
       "10    1     120.0  124.0  "
      ]
     },
     "execution_count": 6,
     "metadata": {},
     "output_type": "execute_result"
    }
   ],
   "source": [
    "chicks_pivot = chicks.pivot_table(values=\"weight\", index=['Chick', 'Diet'], columns='Time')\n",
    "chicks_pivot.head(10)"
   ]
  },
  {
   "cell_type": "markdown",
   "metadata": {},
   "source": [
    "There are 50 chicks but not all of them have complete observations in a period (f.e., NaN for chick 8 - day 21).\n",
    "\n",
    "## 6. Check and drop None  \n",
    "There are 5 chickens for those mesurements were made not every specified day:"
   ]
  },
  {
   "cell_type": "code",
   "execution_count": 7,
   "metadata": {},
   "outputs": [
    {
     "data": {
      "text/plain": [
       "5"
      ]
     },
     "execution_count": 7,
     "metadata": {},
     "output_type": "execute_result"
    }
   ],
   "source": [
    "chicks_pivot.isnull().any(axis=1).sum()"
   ]
  },
  {
   "cell_type": "markdown",
   "metadata": {},
   "source": [
    "Drop poor chicks with not full observation list:"
   ]
  },
  {
   "cell_type": "code",
   "execution_count": 8,
   "metadata": {},
   "outputs": [],
   "source": [
    "chicks_pivot = chicks_pivot.dropna();"
   ]
  },
  {
   "cell_type": "markdown",
   "metadata": {},
   "source": [
    "# Unpivoting chicks dataset  \n",
    "## 7. Create four scatter plots to show weight of different chicks by diet\n",
    "* x - time, y - weight"
   ]
  },
  {
   "cell_type": "code",
   "execution_count": 9,
   "metadata": {},
   "outputs": [
    {
     "data": {
      "text/plain": [
       "<seaborn.axisgrid.FacetGrid at 0x7f4d172397b8>"
      ]
     },
     "execution_count": 9,
     "metadata": {},
     "output_type": "execute_result"
    },
    {
     "data": {
      "image/png": "[encoded data removed]",
      "text/plain": [
       "<Figure size 864x216 with 4 Axes>"
      ]
     },
     "metadata": {
      "needs_background": "light"
     },
     "output_type": "display_data"
    }
   ],
   "source": [
    "chicks = chicks_pivot.stack().reset_index(name='weight')\n",
    "g = sns.FacetGrid(chicks, col=\"Diet\", margin_titles=True)\n",
    "g.map(sns.regplot, \"Time\", \"weight\",fit_reg=False, x_jitter=.1)"
   ]
  },
  {
   "cell_type": "markdown",
   "metadata": {},
   "source": [
    "Diet 4 has the least variation.  \n",
    "Diet 3 probabaly has the highest mean effect.\n",
    "\n",
    "## 8. Create four box plots showing weight of different chicks by diet\n",
    "* x - diet, y - weight"
   ]
  },
  {
   "cell_type": "code",
   "execution_count": 10,
   "metadata": {},
   "outputs": [
    {
     "data": {
      "text/plain": [
       "<seaborn.axisgrid.FacetGrid at 0x7f4d46926278>"
      ]
     },
     "execution_count": 10,
     "metadata": {},
     "output_type": "execute_result"
    },
    {
     "data": {
      "image/png": "[encoded data removed]",
      "text/plain": [
       "<Figure size 720x720 with 4 Axes>"
      ]
     },
     "metadata": {
      "needs_background": "light"
     },
     "output_type": "display_data"
    }
   ],
   "source": [
    "sns.catplot(x=\"Time\", y=\"weight\", col=\"Diet\", data=chicks, kind=\"box\", col_wrap=2)"
   ]
  },
  {
   "cell_type": "markdown",
   "metadata": {},
   "source": [
    "Diet 3 has the highest mean weight gain but also it has more variation than Diet 4.\n",
    "\n",
    "## 9. Get statistics by Diets\n",
    "Maximum weight was achieved on Diet 3."
   ]
  },
  {
   "cell_type": "code",
   "execution_count": 11,
   "metadata": {
    "_kg_hide-input": true
   },
   "outputs": [
    {
     "data": {
      "text/html": [
       "<div>\n",
       "<style scoped>\n",
       "    .dataframe tbody tr th:only-of-type {\n",
       "        vertical-align: middle;\n",
       "    }\n",
       "\n",
       "    .dataframe tbody tr th {\n",
       "        vertical-align: top;\n",
       "    }\n",
       "\n",
       "    .dataframe thead th {\n",
       "        text-align: right;\n",
       "    }\n",
       "</style>\n",
       "<table border=\"1\" class=\"dataframe\">\n",
       "  <thead>\n",
       "    <tr style=\"text-align: right;\">\n",
       "      <th></th>\n",
       "      <th>max_weight</th>\n",
       "      <th>min_weight</th>\n",
       "      <th>avg_weight</th>\n",
       "      <th>total_weight</th>\n",
       "      <th>num_chicks</th>\n",
       "    </tr>\n",
       "    <tr>\n",
       "      <th>Diet</th>\n",
       "      <th></th>\n",
       "      <th></th>\n",
       "      <th></th>\n",
       "      <th></th>\n",
       "      <th></th>\n",
       "    </tr>\n",
       "  </thead>\n",
       "  <tbody>\n",
       "    <tr>\n",
       "      <td>1</td>\n",
       "      <td>305.0</td>\n",
       "      <td>39.0</td>\n",
       "      <td>107.640625</td>\n",
       "      <td>20667.0</td>\n",
       "      <td>192</td>\n",
       "    </tr>\n",
       "    <tr>\n",
       "      <td>2</td>\n",
       "      <td>331.0</td>\n",
       "      <td>39.0</td>\n",
       "      <td>122.616667</td>\n",
       "      <td>14714.0</td>\n",
       "      <td>120</td>\n",
       "    </tr>\n",
       "    <tr>\n",
       "      <td>3</td>\n",
       "      <td>373.0</td>\n",
       "      <td>39.0</td>\n",
       "      <td>142.950000</td>\n",
       "      <td>17154.0</td>\n",
       "      <td>120</td>\n",
       "    </tr>\n",
       "    <tr>\n",
       "      <td>4</td>\n",
       "      <td>322.0</td>\n",
       "      <td>39.0</td>\n",
       "      <td>138.333333</td>\n",
       "      <td>14940.0</td>\n",
       "      <td>108</td>\n",
       "    </tr>\n",
       "  </tbody>\n",
       "</table>\n",
       "</div>"
      ],
      "text/plain": [
       "      max_weight  min_weight  avg_weight  total_weight  num_chicks\n",
       "Diet                                                              \n",
       "1          305.0        39.0  107.640625       20667.0         192\n",
       "2          331.0        39.0  122.616667       14714.0         120\n",
       "3          373.0        39.0  142.950000       17154.0         120\n",
       "4          322.0        39.0  138.333333       14940.0         108"
      ]
     },
     "execution_count": 11,
     "metadata": {},
     "output_type": "execute_result"
    }
   ],
   "source": [
    "chicks.groupby('Diet').agg(\n",
    "    max_weight=('weight', max),\n",
    "    min_weight=('weight', min),\n",
    "    avg_weight=('weight', 'mean'),\n",
    "    total_weight=('weight', sum),\n",
    "    num_chicks=('Chick', 'count')    \n",
    ")"
   ]
  },
  {
   "cell_type": "markdown",
   "metadata": {},
   "source": [
    "# Find the best model to predict chicks weight\n",
    "\n",
    "We need to use some regression algorithm because we are aimed to predict a continuous number (weight).\n",
    "\n",
    "## 1. Prepare the data  \n",
    "* Create list of predictions variable: **y - weight**  \n",
    "* Create list of features: **X - ['Diet', 'Time']**  \n",
    "* Create train data (80%) and test data (validation, 20%) for both lists using `train_test_split` function from `sklearn` which shiffles the dataset using the pseudorandom number generator. Parameter `random_state = 1` is a fixed seed to make the output determenistic."
   ]
  },
  {
   "cell_type": "code",
   "execution_count": 12,
   "metadata": {},
   "outputs": [],
   "source": [
    "from sklearn.model_selection import train_test_split\n",
    "\n",
    "# y = WEIGHT -> target\n",
    "y = chicks.weight\n",
    "# Create X = [\"Diet\", \"Time\"] -> data\n",
    "features = [\"Diet\", \"Time\"]\n",
    "X = chicks[features]\n",
    "\n",
    "# Split into validation and training data\n",
    "train_X, val_X, train_y, val_y = train_test_split(X, y, random_state=1, test_size=0.2)"
   ]
  },
  {
   "cell_type": "markdown",
   "metadata": {},
   "source": [
    "## 2. Apply linear models  \n",
    "### **2.1** Specify a model and fit it with parameters\n",
    "* **LinearRegression** - a linear approach to modeling the relationship between a dependent variable and one or more independent variables. Here we have a SIMPLE linear regression because there is only one independent (exploratory) variable - `Weight`.  \n",
    "* **Ridge** - or Tikhonov regularization - a linear approach which is useful to mitigate the problem of multicollinearity in linear regression, which commonly occurs in models with large numbers of parameters (**L2**).  \n",
    "* **Lasso** - least absolute shrinkage and selection operator - was originally formulated for least squares models and this simple case reveals a substantial amount about the behavior of the estimator, including its relationship to ridge regression and best subset selection and the connections between lasso coefficient estimates and so-called soft thresholding (**L1**).  \n",
    "* **ElasticNet** - Linear regression with combined L1 and L2 priors as regularizer."
   ]
  },
  {
   "cell_type": "code",
   "execution_count": 13,
   "metadata": {},
   "outputs": [],
   "source": [
    "from sklearn.linear_model import LinearRegression, Ridge, Lasso, ElasticNet\n",
    "from sklearn.metrics import mean_absolute_error\n",
    "\n",
    "# Specify Model and fit it\n",
    "C_modelRegr =  LinearRegression().fit(train_X, train_y)\n",
    "C_modelRidge = Ridge().fit(train_X, train_y)\n",
    "C_modelLasso = Lasso().fit(train_X, train_y)\n",
    "C_modelElasticNet = ElasticNet(alpha = 0.1).fit(train_X, train_y)"
   ]
  },
  {
   "cell_type": "markdown",
   "metadata": {},
   "source": [
    "**2.2** Evaluating the model \n",
    "\n",
    "* Calculate mean absolute error (MAE) and scores on the training and test data. The MAE list is the absolute values of each error (positive numbers), so MAE is the average of those absolute errors. \n",
    "* Find best score for training and test data using `model.score()` function"
   ]
  },
  {
   "cell_type": "code",
   "execution_count": 14,
   "metadata": {
    "_kg_hide-input": true
   },
   "outputs": [
    {
     "name": "stdout",
     "output_type": "stream",
     "text": [
      "Linear Regression:\n",
      "\tValidation MAE: 20\n",
      "\tAccuracy on train data: 0.739\n",
      "\tAccuracy on test data: 0.729\n",
      "Ridge Regression:\n",
      "\tValidation MAE: 20\n",
      "\tAccuracy on train data: 0.739\n",
      "\tAccuracy on test data: 0.729\n",
      "Lasso Regression:\n",
      "\tValidation MAE: 20\n",
      "\tAccuracy on train data: 0.739\n",
      "\tAccuracy on test data: 0.727\n",
      "Elastic Net:\n",
      "\tValidation MAE: 20\n",
      "\tAccuracy on train data: 0.739\n",
      "\tAccuracy on test data: 0.728\n"
     ]
    }
   ],
   "source": [
    "print(\"Linear Regression:\")\n",
    "print(\"\\tValidation MAE: {:,.0f}\".format(mean_absolute_error(C_modelRegr.predict(val_X), val_y)))\n",
    "print(\"\\tAccuracy on train data: {:.3f}\".format(C_modelRegr.score(train_X, train_y)))\n",
    "print(\"\\tAccuracy on test data: {:.3f}\".format(C_modelRegr.score(val_X, val_y)))\n",
    "\n",
    "print(\"Ridge Regression:\")\n",
    "print(\"\\tValidation MAE: {:,.0f}\".format(mean_absolute_error(C_modelRidge.predict(val_X), val_y)))\n",
    "print(\"\\tAccuracy on train data: {:.3f}\".format(C_modelRidge.score(train_X, train_y)))\n",
    "print(\"\\tAccuracy on test data: {:.3f}\".format(C_modelRidge.score(val_X, val_y)))\n",
    "\n",
    "print(\"Lasso Regression:\")\n",
    "print(\"\\tValidation MAE: {:,.0f}\".format(mean_absolute_error(C_modelLasso.predict(val_X), val_y)))\n",
    "print(\"\\tAccuracy on train data: {:.3f}\".format(C_modelLasso.score(train_X, train_y)))\n",
    "print(\"\\tAccuracy on test data: {:.3f}\".format(C_modelLasso.score(val_X, val_y)))\n",
    "\n",
    "print(\"Elastic Net:\")\n",
    "print(\"\\tValidation MAE: {:,.0f}\".format(mean_absolute_error(C_modelElasticNet.predict(val_X), val_y)))\n",
    "print(\"\\tAccuracy on train data: {:.3f}\".format(C_modelElasticNet.score(train_X, train_y)))\n",
    "print(\"\\tAccuracy on test data: {:.3f}\".format(C_modelElasticNet.score(val_X, val_y)))"
   ]
  },
  {
   "cell_type": "markdown",
   "metadata": {},
   "source": [
    "Scores on the training and test data are very close together that means it is likely underfitting than overfitting (anyway, we have only two features).  \n",
    "Classical linear regression model as well as Ridge Regression model show best score on test data (72.9%). It means that regression model `C_modelRegr` predicted the weight correctly for 72.9% of the samples in the test data.\n",
    "\n",
    "## 3. Apply KNN Regressor  \n",
    "k-nearest neighbors algorithm (k-NN) is a non-parametric method used for classification and regression. In both cases, the input consists of the k closest training examples in the feature space. The output depends on whether k-NN is used for classification or regression.\n",
    "* **KNeighborsRegressor** - regression based on k-nearest neighbors algorithm (k-NN). The output is the property value for the object. This value is the average of the values of k nearest neighbors."
   ]
  },
  {
   "cell_type": "code",
   "execution_count": 15,
   "metadata": {},
   "outputs": [],
   "source": [
    "from sklearn.neighbors import KNeighborsRegressor\n",
    "C_modelKNN =  KNeighborsRegressor(n_neighbors = 25).fit(train_X, train_y)"
   ]
  },
  {
   "cell_type": "code",
   "execution_count": 16,
   "metadata": {
    "_kg_hide-input": true
   },
   "outputs": [
    {
     "name": "stdout",
     "output_type": "stream",
     "text": [
      "KNeighbors Regressor:\n",
      "\tValidation MAE: 17\n",
      "\tAccuracy on train data: 0.770\n",
      "\tAccuracy on test data: 0.778\n"
     ]
    }
   ],
   "source": [
    "print(\"KNeighbors Regressor:\")\n",
    "print(\"\\tValidation MAE: {:,.0f}\".format(mean_absolute_error(C_modelKNN.predict(val_X), val_y)))\n",
    "print(\"\\tAccuracy on train data: {:.3f}\".format(C_modelKNN.score(train_X, train_y)))\n",
    "print(\"\\tAccuracy on test data: {:.3f}\".format(C_modelKNN.score(val_X, val_y)))"
   ]
  },
  {
   "cell_type": "markdown",
   "metadata": {},
   "source": [
    "KNeighbors Regressor model shows better score on test data (77.8%) than any linear model. \n",
    "\n",
    "## 4. Using tree, ensemble and neural network  \n",
    "\n",
    "* **DecisionTreeRegressor** - a decision support tool that uses a tree-like model of decisions and their possible consequences, including chance event outcomes, resource costs, and utility. It is one way to display an algorithm that only contains conditional control statements.\n",
    "* **RandomForestRegressor** - or random decision forests - an ensemble learning method that operates by constructing a multitude of decision trees at training time and for regression outputting the mean prediction of the individual trees.\n",
    "* **MLPRegressor** - Multi-layer Perceptron regressor - model which optimizes the squared-loss using LBFGS (Limited-memory BFGS) or sgd (stochastic gradient descent)."
   ]
  },
  {
   "cell_type": "code",
   "execution_count": 17,
   "metadata": {},
   "outputs": [],
   "source": [
    "from sklearn.tree import DecisionTreeRegressor\n",
    "from sklearn.ensemble import RandomForestRegressor\n",
    "from sklearn.neural_network import MLPRegressor\n",
    "\n",
    "# Specify Model and fit it\n",
    "C_modelDTreeRegr = DecisionTreeRegressor(max_leaf_nodes = 25, random_state=1).fit(train_X, train_y)\n",
    "C_modelForest = RandomForestRegressor(n_estimators=70, max_depth=3, random_state=1).fit(train_X, train_y)\n",
    "C_modelMLPRegr = MLPRegressor(solver = 'lbfgs', random_state = 1, hidden_layer_sizes =[10]).fit(train_X, train_y)"
   ]
  },
  {
   "cell_type": "code",
   "execution_count": 18,
   "metadata": {
    "_kg_hide-input": true
   },
   "outputs": [
    {
     "name": "stdout",
     "output_type": "stream",
     "text": [
      "Decision Tree Regressor:\n",
      "\tValidation MAE: 18\n",
      "\tAccuracy on train data: 0.780\n",
      "\tAccuracy on test data: 0.753\n",
      "Random Forest Regressor:\n",
      "\tValidation MAE: 18\n",
      "\tAccuracy on train data: 0.765\n",
      "\tAccuracy on test data: 0.775\n",
      "MLP Regressor:\n",
      "\tValidation MAE: 18\n",
      "\tAccuracy on train data: 0.758\n",
      "\tAccuracy on test data: 0.761\n"
     ]
    }
   ],
   "source": [
    "print(\"Decision Tree Regressor:\")\n",
    "print(\"\\tValidation MAE: {:,.0f}\".format(mean_absolute_error(C_modelDTreeRegr.predict(val_X), val_y)))\n",
    "print(\"\\tAccuracy on train data: {:.3f}\".format(C_modelDTreeRegr.score(train_X, train_y)))\n",
    "print(\"\\tAccuracy on test data: {:.3f}\".format(C_modelDTreeRegr.score(val_X, val_y)))\n",
    "\n",
    "print(\"Random Forest Regressor:\")\n",
    "print(\"\\tValidation MAE: {:,.0f}\".format(mean_absolute_error(C_modelForest.predict(val_X), val_y)))\n",
    "print(\"\\tAccuracy on train data: {:.3f}\".format(C_modelForest.score(train_X, train_y)))\n",
    "print(\"\\tAccuracy on test data: {:.3f}\".format(C_modelForest.score(val_X, val_y)))\n",
    "\n",
    "print(\"MLP Regressor:\")\n",
    "print(\"\\tValidation MAE: {:,.0f}\".format(mean_absolute_error(C_modelMLPRegr.predict(val_X), val_y)))\n",
    "print(\"\\tAccuracy on train data: {:.3f}\".format(C_modelMLPRegr.score(train_X, train_y)))\n",
    "print(\"\\tAccuracy on test data: {:.3f}\".format(C_modelMLPRegr.score(val_X, val_y)))"
   ]
  },
  {
   "cell_type": "markdown",
   "metadata": {},
   "source": [
    "## 5. Conclusion\n",
    "Random Forest Regressor model shows best score on test data which is **77.5%** and is better than any regression model or a single decision tree. Anyway, MAE of Random Forest Regressor model is 18 and is bigger than KNeighbors Regressor (17)."
   ]
  }
 ],
 "metadata": {
  "kernelspec": {
   "display_name": "Python 3",
   "language": "python",
   "name": "python3"
  },
  "language_info": {
   "codemirror_mode": {
    "name": "ipython",
    "version": 3
   },
   "file_extension": ".py",
   "mimetype": "text/x-python",
   "name": "python",
   "nbconvert_exporter": "python",
   "pygments_lexer": "ipython3",
   "version": "3.6.6"
  }
 },
 "nbformat": 4,
 "nbformat_minor": 1
}
