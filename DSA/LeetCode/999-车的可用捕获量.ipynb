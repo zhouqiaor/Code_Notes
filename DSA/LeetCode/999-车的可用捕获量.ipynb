{
 "cells": [
  {
   "cell_type": "markdown",
   "metadata": {},
   "source": [
    "# 999. 车的可用捕获量"
   ]
  },
  {
   "cell_type": "markdown",
   "metadata": {},
   "source": [
    "在一个 8 x 8 的棋盘上，有一个白色车（rook）。也可能有空方块，白色的象（bishop）和黑色的卒（pawn）。它们分别以字符 “R”，“.”，“B” 和 “p” 给出。大写字符表示白棋，小写字符表示黑棋。\n",
    "\n",
    "车按国际象棋中的规则移动：它选择四个基本方向中的一个（北，东，西和南），然后朝那个方向移动，直到它选择停止、到达棋盘的边缘或移动到同一方格来捕获该方格上颜色相反的卒。另外，车不能与其他友方（白色）象进入同一个方格。\n",
    "\n",
    "返回车能够在一次移动中捕获到的卒的数量。"
   ]
  },
  {
   "cell_type": "markdown",
   "metadata": {},
   "source": [
    "提示：\n",
    "\n",
    "board.length == board[i].length == 8\n",
    "board[i][j] 可以是 'R'，'.'，'B' 或 'p'\n",
    "只有一个格子上存在 board[i][j] == 'R'\n",
    "\n",
    "来源：力扣（LeetCode）\n",
    "链接：https://leetcode-cn.com/problems/available-captures-for-rook\n",
    "著作权归领扣网络所有。商业转载请联系官方授权，非商业转载请注明出处。"
   ]
  },
  {
   "cell_type": "code",
   "execution_count": 1,
   "metadata": {},
   "outputs": [],
   "source": [
    "boad1 = [[\".\",\".\",\".\",\".\",\".\",\".\",\".\",\".\"],\n",
    "         [\".\",\".\",\".\",\"p\",\".\",\".\",\".\",\".\"],\n",
    "         [\".\",\".\",\".\",\"R\",\".\",\".\",\".\",\"p\"],\n",
    "         [\".\",\".\",\".\",\".\",\".\",\".\",\".\",\".\"],\n",
    "         [\".\",\".\",\".\",\".\",\".\",\".\",\".\",\".\"],\n",
    "         [\".\",\".\",\".\",\"p\",\".\",\".\",\".\",\".\"],\n",
    "         [\".\",\".\",\".\",\".\",\".\",\".\",\".\",\".\"],\n",
    "         [\".\",\".\",\".\",\".\",\".\",\".\",\".\",\".\"]]"
   ]
  },
  {
   "cell_type": "code",
   "execution_count": 2,
   "metadata": {},
   "outputs": [],
   "source": [
    "boad2 = [[\".\",\".\",\".\",\".\",\".\",\".\",\".\",\".\"],\n",
    "         [\".\",\"p\",\"p\",\"p\",\"p\",\"p\",\".\",\".\"],\n",
    "         [\".\",\"p\",\"p\",\"B\",\"p\",\"p\",\".\",\".\"],\n",
    "         [\".\",\"p\",\"B\",\"R\",\"B\",\"p\",\".\",\".\"],\n",
    "         [\".\",\"p\",\"p\",\"B\",\"p\",\"p\",\".\",\".\"],\n",
    "         [\".\",\"p\",\"p\",\"p\",\"p\",\"p\",\".\",\".\"],\n",
    "         [\".\",\".\",\".\",\".\",\".\",\".\",\".\",\".\"],\n",
    "         [\".\",\".\",\".\",\".\",\".\",\".\",\".\",\".\"]]"
   ]
  },
  {
   "cell_type": "code",
   "execution_count": null,
   "metadata": {
    "jupyter": {
     "source_hidden": true
    }
   },
   "outputs": [],
   "source": [
    "class Solution(object):\n",
    "    def numRookCaptures(self, board):\n",
    "        \"\"\"\n",
    "        :type board: List[List[str]]\n",
    "        :rtype: int\n",
    "        \"\"\""
   ]
  },
  {
   "cell_type": "markdown",
   "metadata": {},
   "source": [
    "# 简单解法-未知错误"
   ]
  },
  {
   "cell_type": "code",
   "execution_count": 7,
   "metadata": {},
   "outputs": [],
   "source": [
    "class Solution(object):\n",
    "    def numRookCaptures(self, board):\n",
    "        \"\"\"\n",
    "        :type board: List[List[str]]\n",
    "        :rtype: int\n",
    "        \"\"\"\n",
    "        ans = 0\n",
    "        for i in range(8):\n",
    "            for j in range(8):\n",
    "                if board[i][j] is 'R':\n",
    "                    col, row = i, j\n",
    "                    break\n",
    "        for i in range(col,-1,-1):\n",
    "            if board[i][row] is 'p':\n",
    "                ans += 1\n",
    "                break\n",
    "            if board[i][row] is 'B':\n",
    "                break\n",
    "        for i in range(col,8):\n",
    "            if board[i][row] is 'p':\n",
    "                ans += 1\n",
    "                break\n",
    "            if board[i][row] is 'B':\n",
    "                break\n",
    "        for j in range(row,-1,-1):\n",
    "            if board[col][j] is 'p':\n",
    "                ans += 1\n",
    "                break\n",
    "            if board[col][j] is 'B':\n",
    "                break\n",
    "        for j in range(row,8):\n",
    "            if board[col][j] is 'p':\n",
    "                ans += 1\n",
    "                break\n",
    "            if board[col][j] is 'B':\n",
    "                break\n",
    "        return ans"
   ]
  },
  {
   "cell_type": "code",
   "execution_count": 8,
   "metadata": {},
   "outputs": [],
   "source": [
    "sl = Solution()"
   ]
  },
  {
   "cell_type": "code",
   "execution_count": 9,
   "metadata": {},
   "outputs": [
    {
     "data": {
      "text/plain": [
       "3"
      ]
     },
     "execution_count": 9,
     "metadata": {},
     "output_type": "execute_result"
    }
   ],
   "source": [
    "sl.numRookCaptures(boad1)"
   ]
  },
  {
   "cell_type": "code",
   "execution_count": 10,
   "metadata": {},
   "outputs": [
    {
     "data": {
      "text/plain": [
       "0"
      ]
     },
     "execution_count": 10,
     "metadata": {},
     "output_type": "execute_result"
    }
   ],
   "source": [
    "sl.numRookCaptures(boad2)"
   ]
  },
  {
   "cell_type": "markdown",
   "metadata": {},
   "source": [
    "UnboundLocalError: local variable 'col' referenced before assignment\n",
    "Line 12 in numRookCaptures (Solution.py)\n",
    "Line 58 in _driver (Solution.py)\n",
    "Line 70 in <module> (Solution.py)"
   ]
  },
  {
   "cell_type": "markdown",
   "metadata": {},
   "source": [
    "pawns, rook, bishops = sl.numRookCaptures(boad2)\n",
    "print('pawns:',pawns)\n",
    "print('rook:',rook)\n",
    "print('bishops:',bishops)"
   ]
  }
 ],
 "metadata": {
  "kernelspec": {
   "display_name": "Python 3",
   "language": "python",
   "name": "python3"
  },
  "language_info": {
   "codemirror_mode": {
    "name": "ipython",
    "version": 3
   },
   "file_extension": ".py",
   "mimetype": "text/x-python",
   "name": "python",
   "nbconvert_exporter": "python",
   "pygments_lexer": "ipython3",
   "version": "3.7.3"
  }
 },
 "nbformat": 4,
 "nbformat_minor": 4
}
