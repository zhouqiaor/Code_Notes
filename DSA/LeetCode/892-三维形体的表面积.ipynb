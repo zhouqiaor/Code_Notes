{
 "cells": [
  {
   "cell_type": "markdown",
   "metadata": {},
   "source": [
    "# 892. 三维形体的表面积"
   ]
  },
  {
   "cell_type": "markdown",
   "metadata": {},
   "source": [
    "## 题目描述"
   ]
  },
  {
   "cell_type": "markdown",
   "metadata": {
    "jupyter": {
     "source_hidden": true
    }
   },
   "source": [
    "在 N * N 的网格上，我们放置一些 1 * 1 * 1  的立方体。\n",
    "每个值 v = grid[i][j] 表示 v 个正方体叠放在对应单元格 (i, j) 上。\n",
    "请你返回最终形体的表面积。\n",
    "\n",
    "示例 1：  \n",
    "输入：[[2]]  \n",
    "输出：10\n",
    "\n",
    "示例 2：  \n",
    "输入：[[1,2],[3,4]]  \n",
    "输出：34\n",
    "\n",
    "示例 3：  \n",
    "输入：[[1,0],[0,2]]  \n",
    "输出：16\n",
    "\n",
    "示例 4：  \n",
    "输入：[[1,1,1],[1,0,1],[1,1,1]]  \n",
    "输出：32\n",
    "\n",
    "示例 5：  \n",
    "输入：[[2,2,2],[2,1,2],[2,2,2]]  \n",
    "输出：46\n",
    "\n",
    "提示：\n",
    "\n",
    "1 <= N <= 50\n",
    "0 <= grid[i][j] <= 50\n",
    "\n",
    "来源：力扣（LeetCode）\n",
    "链接：https://leetcode-cn.com/problems/surface-area-of-3d-shapes\n",
    "著作权归领扣网络所有。商业转载请联系官方授权，非商业转载请注明出处。"
   ]
  },
  {
   "cell_type": "code",
   "execution_count": 1,
   "metadata": {
    "jupyter": {
     "source_hidden": true
    }
   },
   "outputs": [],
   "source": [
    "test1= [[2]]\n",
    "test2 = [[1,2],[3,4]]\n",
    "test3 = [[1,0],[0,2]]\n",
    "test4 = [[1,1,1],[1,0,1],[1,1,1]]\n",
    "test5 = [[2,2,2],[2,1,2],[2,2,2]]"
   ]
  },
  {
   "cell_type": "code",
   "execution_count": 2,
   "metadata": {
    "jupyter": {
     "source_hidden": true
    }
   },
   "outputs": [],
   "source": [
    "tests = [test1,test2,test3,test4,test5]"
   ]
  },
  {
   "cell_type": "code",
   "execution_count": 3,
   "metadata": {
    "jupyter": {
     "source_hidden": true
    }
   },
   "outputs": [],
   "source": [
    "answer = [10,34,16,32,46]"
   ]
  },
  {
   "cell_type": "markdown",
   "metadata": {},
   "source": [
    "## 程序"
   ]
  },
  {
   "cell_type": "code",
   "execution_count": 12,
   "metadata": {},
   "outputs": [],
   "source": [
    "class Solution:\n",
    "    def surfaceArea(self, grid):\n",
    "        # list大小\n",
    "        # rows, cols = len(grid), len(grid[0])\n",
    "        # 计算每一个网格上的表面积\n",
    "        N = len(grid)\n",
    "        areas = 0\n",
    "        for row in grid:\n",
    "            for elem in row:\n",
    "                if elem:  # !!! \n",
    "                    areas += elem*4+2\n",
    "        #减去纵向重叠面积(相邻网格的较小值*2)\n",
    "        for i in range(N-1):\n",
    "            for j in range(N):\n",
    "                areas -= min(grid[i][j], grid[i+1][j])*2\n",
    "        #减去横向重叠面积(相邻网格的较小值*2)\n",
    "        for i in range(N):\n",
    "            for j in range(N-1):\n",
    "                areas -= min(grid[i][j], grid[i][j+1])*2\n",
    "        return areas"
   ]
  },
  {
   "cell_type": "code",
   "execution_count": 5,
   "metadata": {
    "collapsed": true,
    "jupyter": {
     "outputs_hidden": true
    }
   },
   "outputs": [
    {
     "name": "stdout",
     "output_type": "stream",
     "text": [
      "True\n",
      "True\n",
      "True\n",
      "True\n",
      "True\n",
      "CPU times: user 826 µs, sys: 145 µs, total: 971 µs\n",
      "Wall time: 975 µs\n"
     ]
    }
   ],
   "source": [
    "%%time\n",
    "sl = Solution()\n",
    "for i in range(len(tests)):\n",
    "    print(sl.surfaceArea(tests[i])==answer[i])"
   ]
  },
  {
   "cell_type": "markdown",
   "metadata": {
    "jupyter": {
     "source_hidden": true
    }
   },
   "source": [
    "执行结果：\n",
    "通过\n",
    "显示详情\n",
    "执行用时 :\n",
    "104 ms\n",
    ", 在所有 Python3 提交中击败了\n",
    "71.60%\n",
    "的用户\n",
    "内存消耗 :\n",
    "13.8 MB\n",
    ", 在所有 Python3 提交中击败了\n",
    "5.77%\n",
    "的用户"
   ]
  },
  {
   "cell_type": "markdown",
   "metadata": {
    "jupyter": {
     "source_hidden": true
    }
   },
   "source": [
    "执行用时 :\n",
    "124 ms\n",
    ", 在所有 Python3 提交中击败了\n",
    "48.28%\n",
    "的用户\n",
    "内存消耗 :\n",
    "13.8 MB\n",
    ", 在所有 Python3 提交中击败了\n",
    "5.77%\n",
    "的用户"
   ]
  },
  {
   "cell_type": "markdown",
   "metadata": {},
   "source": [
    "## 程序"
   ]
  },
  {
   "cell_type": "code",
   "execution_count": 6,
   "metadata": {},
   "outputs": [],
   "source": [
    "class Solution2:\n",
    "    def surfaceArea(self, grid):\n",
    "        # !!!读题：输入为N*N\n",
    "        N = len(grid)\n",
    "        # 计算每一个网格上的表面积\n",
    "        ans = 0\n",
    "        for i in range(N):\n",
    "            for j in range(N):\n",
    "                if grid[i][j]:  # !!! \n",
    "                    ans += grid[i][j]*4+2\n",
    "                if i+1 < N:\n",
    "                #减去纵向重叠面积(相邻网格的较小值*2)\n",
    "                    ans -= min(grid[i][j], grid[i+1][j])*2\n",
    "                #减去横向重叠面积(相邻网格的较小值*2)\n",
    "                if j+1 < N:\n",
    "                    ans -= min(grid[i][j], grid[i][j+1])*2\n",
    "        return ans"
   ]
  },
  {
   "cell_type": "code",
   "execution_count": 7,
   "metadata": {
    "collapsed": true,
    "jupyter": {
     "outputs_hidden": true
    }
   },
   "outputs": [
    {
     "name": "stdout",
     "output_type": "stream",
     "text": [
      "True\n",
      "True\n",
      "True\n",
      "True\n",
      "True\n",
      "CPU times: user 954 µs, sys: 162 µs, total: 1.12 ms\n",
      "Wall time: 1.12 ms\n"
     ]
    }
   ],
   "source": [
    "%%time\n",
    "sl = Solution2()\n",
    "for i in range(len(tests)):\n",
    "    print(sl.surfaceArea(tests[i])==answer[i])"
   ]
  },
  {
   "cell_type": "markdown",
   "metadata": {
    "jupyter": {
     "source_hidden": true
    }
   },
   "source": [
    "执行结果：\n",
    "通过\n",
    "显示详情\n",
    "执行用时 :\n",
    "108 ms\n",
    ", 在所有 Python3 提交中击败了\n",
    "66.67%\n",
    "的用户\n",
    "内存消耗 :\n",
    "13.8 MB\n",
    ", 在所有 Python3 提交中击败了\n",
    "5.77%\n",
    "的用户"
   ]
  },
  {
   "cell_type": "markdown",
   "metadata": {},
   "source": [
    "## 待续"
   ]
  },
  {
   "cell_type": "markdown",
   "metadata": {},
   "source": [
    "# 笔记"
   ]
  },
  {
   "cell_type": "markdown",
   "metadata": {},
   "source": [
    "https://snakify.org/en/lessons/two_dimensional_lists_arrays/#section_4"
   ]
  },
  {
   "cell_type": "markdown",
   "metadata": {},
   "source": [
    "## Nested lists: processing and printing"
   ]
  },
  {
   "cell_type": "code",
   "execution_count": 8,
   "metadata": {},
   "outputs": [],
   "source": [
    "a = [[1, 2, 3, 4], [5, 6], [7, 8, 9]]"
   ]
  },
  {
   "cell_type": "code",
   "execution_count": 9,
   "metadata": {},
   "outputs": [
    {
     "name": "stdout",
     "output_type": "stream",
     "text": [
      "1 2 3 4 \n",
      "5 6 \n",
      "7 8 9 \n",
      "CPU times: user 970 µs, sys: 163 µs, total: 1.13 ms\n",
      "Wall time: 711 µs\n"
     ]
    }
   ],
   "source": [
    "%%time\n",
    "for i in range(len(a)):\n",
    "    for j in range(len(a[i])):\n",
    "        print(a[i][j], end=' ')\n",
    "    print()"
   ]
  },
  {
   "cell_type": "code",
   "execution_count": 10,
   "metadata": {},
   "outputs": [
    {
     "name": "stdout",
     "output_type": "stream",
     "text": [
      "1 2 3 4 \n",
      "5 6 \n",
      "7 8 9 \n",
      "CPU times: user 1.4 ms, sys: 234 µs, total: 1.64 ms\n",
      "Wall time: 1.68 ms\n"
     ]
    }
   ],
   "source": [
    "%%time\n",
    "for row in a:\n",
    "    for elem in row:\n",
    "        print(elem, end=' ')\n",
    "    print()"
   ]
  },
  {
   "cell_type": "markdown",
   "metadata": {},
   "source": [
    "输出单行"
   ]
  },
  {
   "cell_type": "code",
   "execution_count": 11,
   "metadata": {},
   "outputs": [
    {
     "name": "stdout",
     "output_type": "stream",
     "text": [
      "1 2 3 4\n",
      "5 6\n",
      "7 8 9\n"
     ]
    }
   ],
   "source": [
    "for row in a:\n",
    "    print(' '.join([str(elem) for elem in row]))"
   ]
  }
 ],
 "metadata": {
  "kernelspec": {
   "display_name": "Python 3",
   "language": "python",
   "name": "python3"
  },
  "language_info": {
   "codemirror_mode": {
    "name": "ipython",
    "version": 3
   },
   "file_extension": ".py",
   "mimetype": "text/x-python",
   "name": "python",
   "nbconvert_exporter": "python",
   "pygments_lexer": "ipython3",
   "version": "3.7.3"
  },
  "toc-autonumbering": true
 },
 "nbformat": 4,
 "nbformat_minor": 4
}
