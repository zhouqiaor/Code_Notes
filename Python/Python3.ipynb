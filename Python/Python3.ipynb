{
 "cells": [
  {
   "cell_type": "markdown",
   "metadata": {},
   "source": [
    "Python目录"
   ]
  },
  {
   "cell_type": "markdown",
   "metadata": {},
   "source": [
    "../ 表示当前文件所在的目录的上一级目录  \n",
    "./ 表示当前文件所在的目录(可以省略)  \n",
    "/ 表示当前站点的根目录(域名映射的硬盘目录)  "
   ]
  }
 ],
 "metadata": {
  "kernelspec": {
   "display_name": "Python 3",
   "language": "python",
   "name": "python3"
  },
  "language_info": {
   "codemirror_mode": {
    "name": "ipython",
    "version": 3
   },
   "file_extension": ".py",
   "mimetype": "text/x-python",
   "name": "python",
   "nbconvert_exporter": "python",
   "pygments_lexer": "ipython3",
   "version": "3.7.3"
  }
 },
 "nbformat": 4,
 "nbformat_minor": 4
}
